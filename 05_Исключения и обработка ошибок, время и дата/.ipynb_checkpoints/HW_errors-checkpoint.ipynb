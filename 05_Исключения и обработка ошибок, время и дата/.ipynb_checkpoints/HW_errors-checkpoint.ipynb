{
 "cells": [
  {
   "cell_type": "markdown",
   "metadata": {},
   "source": [
    "### Задание 1"
   ]
  },
  {
   "cell_type": "raw",
   "metadata": {},
   "source": [
    "Печатные газеты использовали свой формат дат для каждого выпуска. \n",
    "Для каждой газеты из списка напишите формат указанной даты для перевода в объект datetime:\n",
    "\n",
    "The Moscow Times - Wednesday, October 2, 2002\n",
    "The Guardian - Friday, 11.10.13\n",
    "Daily News - Thursday, 18 August 1977"
   ]
  },
  {
   "cell_type": "code",
   "execution_count": 8,
   "metadata": {},
   "outputs": [],
   "source": [
    "from datetime import datetime\n",
    "import re"
   ]
  },
  {
   "cell_type": "code",
   "execution_count": 23,
   "metadata": {},
   "outputs": [],
   "source": [
    "def input_data():\n",
    "    i = 0\n",
    "    while i < 1:\n",
    "        user_data = input('Введите дату в формате ГГГГ-ММ-ДД:\\n')\n",
    "        if len(re.findall(r'\\d{4}-\\d{2}-\\d{2}',user_data)) == 1:\n",
    "            return user_data\n",
    "        else:\n",
    "            print('Неверный ввод')"
   ]
  },
  {
   "cell_type": "code",
   "execution_count": 26,
   "metadata": {},
   "outputs": [],
   "source": [
    "def input_city():\n",
    "    i = 0\n",
    "    while i < 1:\n",
    "        city = input('Выберите газету:\\n1 - The Moscow Times\\n2 - The Guardian\\n3 - Daily News\\n')\n",
    "        if city in ['1','2','3']:\n",
    "            return city\n",
    "        else:\n",
    "            print('Неверный ввод')"
   ]
  },
  {
   "cell_type": "code",
   "execution_count": 39,
   "metadata": {},
   "outputs": [],
   "source": [
    "def magazine_fomat_date():\n",
    "    magazine_time = {\n",
    "        '1': '%A, %B %d, %Y',\n",
    "        '2': '%A, %d.%m.%y',\n",
    "        '3': '%A, %d %B %Y'\n",
    "        }\n",
    "    user_data = input_data()\n",
    "    universal_date = datetime.strptime(user_data, '%Y-%m-%d' )\n",
    "    city = input_city()\n",
    "    print(f'Формат для выбранной газеты: {universal_date.strftime(magazine_time[city])}')"
   ]
  },
  {
   "cell_type": "code",
   "execution_count": 40,
   "metadata": {
    "scrolled": true
   },
   "outputs": [
    {
     "name": "stdout",
     "output_type": "stream",
     "text": [
      "Введите дату в формате ГГГГ-ММ-ДД:\n",
      "2020-12-12\n",
      "Выберите газету:\n",
      "1 - The Moscow Times\n",
      "2 - The Guardian\n",
      "3 - Daily News\n",
      "1\n",
      "Формат для выбранной газеты: Saturday, December 12, 2020\n"
     ]
    }
   ],
   "source": [
    "magazine_fomat_date()"
   ]
  },
  {
   "cell_type": "markdown",
   "metadata": {},
   "source": [
    "### Задание 2"
   ]
  },
  {
   "cell_type": "raw",
   "metadata": {},
   "source": [
    "Дан поток дат в формате YYYY-MM-DD, в которых встречаются некорректные значения:\n",
    "stream = [‘2018-04-02’, ‘2018-02-29’, ‘2018-19-02’]\n",
    "\n",
    "Напишите функцию, которая проверяет эти даты на корректность. Т. е. для каждой даты возвращает True (дата корректна) или False (некорректная дата)."
   ]
  },
  {
   "cell_type": "code",
   "execution_count": 42,
   "metadata": {},
   "outputs": [],
   "source": [
    "from datetime import datetime"
   ]
  },
  {
   "cell_type": "code",
   "execution_count": 43,
   "metadata": {},
   "outputs": [],
   "source": [
    "stream = ['2018-04-02', '2018-02-29', '2018-19-02']"
   ]
  },
  {
   "cell_type": "code",
   "execution_count": 48,
   "metadata": {},
   "outputs": [
    {
     "name": "stdout",
     "output_type": "stream",
     "text": [
      "2018-04-02 is True\n",
      "2018-02-29 is False\n",
      "2018-19-02 is False\n"
     ]
    }
   ],
   "source": [
    "for date in stream:    \n",
    "    try:\n",
    "        datetime.strptime(date, '%Y-%m-%d')\n",
    "        print(f'{date} is True')\n",
    "    except:\n",
    "        print(f'{date} is False')"
   ]
  },
  {
   "cell_type": "markdown",
   "metadata": {},
   "source": [
    "### Задание 3"
   ]
  },
  {
   "cell_type": "raw",
   "metadata": {},
   "source": [
    "Напишите функцию date_range, которая возвращает список дат за период от start_date до end_date. \n",
    "Даты должны вводиться в формате YYYY-MM-DD. \n",
    "В случае неверного формата или при start_date > end_date должен возвращаться пустой список."
   ]
  },
  {
   "cell_type": "code",
   "execution_count": 53,
   "metadata": {},
   "outputs": [],
   "source": [
    "from datetime import datetime\n",
    "from datetime import timedelta"
   ]
  },
  {
   "cell_type": "code",
   "execution_count": 74,
   "metadata": {},
   "outputs": [],
   "source": [
    "def date_range(start_date, end_date):\n",
    "    \n",
    "    if check_format_date(start_date, end_date):\n",
    "        start_date_cheked = datetime.strptime(start_date, '%Y-%m-%d')\n",
    "        \n",
    "        if datetime.strptime(start_date, '%Y-%m-%d') > datetime.strptime(end_date, '%Y-%m-%d'): \n",
    "            # не сравниваю напрямую start_date и end_date потому что можно ввести конечную дату как 2020-09-09, и будет все Ок,\n",
    "            # но можно ввести и 2020-9-9, и тогда сравнение напрямую будет некорректным. \n",
    "            print('[]')\n",
    "        else: \n",
    "            while start_date_cheked.strftime('%Y-%m-%d') <= end_date:\n",
    "                print(start_date_cheked.strftime('%Y-%m-%d'))\n",
    "                start_date_cheked += timedelta(days=1)\n",
    "        \n",
    "    else:\n",
    "        print('[]')"
   ]
  },
  {
   "cell_type": "code",
   "execution_count": 67,
   "metadata": {},
   "outputs": [],
   "source": [
    "def check_format_date(start_date, end_date):\n",
    "    try:\n",
    "        datetime.strptime(start_date, '%Y-%m-%d')\n",
    "        datetime.strptime(end_date, '%Y-%m-%d')\n",
    "        return True\n",
    "    except:\n",
    "        return False"
   ]
  },
  {
   "cell_type": "code",
   "execution_count": 60,
   "metadata": {},
   "outputs": [],
   "source": [
    "def input_dates():\n",
    "    start_date = input('Введите начальную дату в формате ГГГГ-ММ-ДД:\\n')\n",
    "    end_date = input('Введите конечную дату в формате ГГГГ-ММ-ДД:\\n')\n",
    "    print('\\n')\n",
    "    date_range(start_date, end_date)"
   ]
  },
  {
   "cell_type": "code",
   "execution_count": 61,
   "metadata": {},
   "outputs": [
    {
     "name": "stdout",
     "output_type": "stream",
     "text": [
      "Введите начальную дату в формате ГГГГ-ММ-ДД:\n",
      "2020-01-01\n",
      "Введите конечную дату в формате ГГГГ-ММ-ДД:\n",
      "2020-01-10\n",
      "\n",
      "\n",
      "2020-01-01\n",
      "2020-01-02\n",
      "2020-01-03\n",
      "2020-01-04\n",
      "2020-01-05\n",
      "2020-01-06\n",
      "2020-01-07\n",
      "2020-01-08\n",
      "2020-01-09\n",
      "2020-01-10\n"
     ]
    }
   ],
   "source": [
    "input_dates()"
   ]
  },
  {
   "cell_type": "code",
   "execution_count": 62,
   "metadata": {
    "scrolled": true
   },
   "outputs": [
    {
     "name": "stdout",
     "output_type": "stream",
     "text": [
      "Введите начальную дату в формате ГГГГ-ММ-ДД:\n",
      "2019-02-20\n",
      "Введите конечную дату в формате ГГГГ-ММ-ДД:\n",
      "2019-02-30\n",
      "\n",
      "\n",
      "[]\n"
     ]
    }
   ],
   "source": [
    "input_dates()"
   ]
  },
  {
   "cell_type": "code",
   "execution_count": 73,
   "metadata": {
    "scrolled": false
   },
   "outputs": [
    {
     "name": "stdout",
     "output_type": "stream",
     "text": [
      "Введите начальную дату в формате ГГГГ-ММ-ДД:\n",
      "2020-10-10\n",
      "Введите конечную дату в формате ГГГГ-ММ-ДД:\n",
      "2020-9-9\n",
      "\n",
      "\n",
      "[]\n"
     ]
    }
   ],
   "source": [
    "input_dates()"
   ]
  },
  {
   "cell_type": "markdown",
   "metadata": {},
   "source": [
    "### Задание 4 (бонусное)"
   ]
  },
  {
   "cell_type": "raw",
   "metadata": {},
   "source": [
    "Ваш коллега прислал код функции:"
   ]
  },
  {
   "cell_type": "code",
   "execution_count": 2,
   "metadata": {},
   "outputs": [],
   "source": [
    "DEFAULT_USER_COUNT = 3\n",
    "\n",
    "def delete_and_return_last_user(region, default_list=['A100', 'A101', 'A102']):\n",
    "    \"\"\"\n",
    "    Удаляет из списка default_list последнего пользователя\n",
    "    и возвращает ID нового последнего пользователя.\n",
    "    \"\"\"\n",
    "    element_to_delete = default_list[-1]\n",
    "    default_list.remove(element_to_delete)\n",
    "\n",
    "    return default_list[DEFAULT_USER_COUNT-2]"
   ]
  },
  {
   "cell_type": "raw",
   "metadata": {},
   "source": [
    "При однократном вызове этой функции все работает корректно:\n",
    "delete_and_return_last_user(1)\n",
    "'A101'\n",
    "\n",
    "Однако, при повторном вызове получается ошибка IndexError: list index out of range.\n",
    "\n",
    "Задание:\n",
    "\n",
    "Что значит ошибка list index out of range?\n",
    "Почему при первом запуске функция работает корректно, а при втором - нет?"
   ]
  },
  {
   "cell_type": "markdown",
   "metadata": {},
   "source": [
    "    Коллега меняет действующий список и далее идет по нему же. \n",
    "    В первой итерации все корректно: удаляет последний элемент, возвращвет по индексу предыдущий. \n",
    "    Но во второй итерации удаляет 2й элемент, пытается вернуть по индексу другой элемент, а в списке всего 1 остался и \"минус 2\" не работает. \n",
    "    В итоге конечно запрос не может быть выполнен так как индекс вылезает за пределы сущесвтующего списка. "
   ]
  }
 ],
 "metadata": {
  "kernelspec": {
   "display_name": "Python 3",
   "language": "python",
   "name": "python3"
  },
  "language_info": {
   "codemirror_mode": {
    "name": "ipython",
    "version": 3
   },
   "file_extension": ".py",
   "mimetype": "text/x-python",
   "name": "python",
   "nbconvert_exporter": "python",
   "pygments_lexer": "ipython3",
   "version": "3.8.3"
  }
 },
 "nbformat": 4,
 "nbformat_minor": 4
}
