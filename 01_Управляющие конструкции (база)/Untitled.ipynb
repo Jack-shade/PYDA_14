{
 "cells": [
  {
   "cell_type": "code",
   "execution_count": 2,
   "metadata": {},
   "outputs": [
    {
     "ename": "NameError",
     "evalue": "name 'staff_salary' is not defined",
     "output_type": "error",
     "traceback": [
      "\u001b[1;31m---------------------------------------------------------------------------\u001b[0m",
      "\u001b[1;31mNameError\u001b[0m                                 Traceback (most recent call last)",
      "\u001b[1;32m<ipython-input-2-6faf4fb67357>\u001b[0m in \u001b[0;36m<module>\u001b[1;34m\u001b[0m\n\u001b[1;32m----> 1\u001b[1;33m \u001b[0mstaff_salary\u001b[0m\u001b[1;33m[\u001b[0m\u001b[1;34m'Bob'\u001b[0m\u001b[1;33m]\u001b[0m \u001b[1;33m=\u001b[0m \u001b[1;36m2000\u001b[0m\u001b[1;33m\u001b[0m\u001b[1;33m\u001b[0m\u001b[0m\n\u001b[0m\u001b[0;32m      2\u001b[0m \u001b[0mstaff_salary\u001b[0m\u001b[1;33m\u001b[0m\u001b[1;33m\u001b[0m\u001b[0m\n",
      "\u001b[1;31mNameError\u001b[0m: name 'staff_salary' is not defined"
     ]
    }
   ],
   "source": [
    "staff_salary['Bob'] = 2000\n",
    "staff_salary"
   ]
  },
  {
   "cell_type": "code",
   "execution_count": null,
   "metadata": {},
   "outputs": [],
   "source": [
    "i = 0\n",
    "m = 20\n",
    "salary = {}\n",
    "while i < m:\n",
    "    "
   ]
  },
  {
   "cell_type": "code",
   "execution_count": 3,
   "metadata": {},
   "outputs": [],
   "source": [
    "data = [ [13, 25, 23, 34],[45, 32, 44, 47], [12, 33, 23, 95], [13, 53, 34, 35] ]"
   ]
  },
  {
   "cell_type": "code",
   "execution_count": 6,
   "metadata": {},
   "outputs": [
    {
     "ename": "TypeError",
     "evalue": "unsupported operand type(s) for %: 'list' and 'int'",
     "output_type": "error",
     "traceback": [
      "\u001b[1;31m---------------------------------------------------------------------------\u001b[0m",
      "\u001b[1;31mTypeError\u001b[0m                                 Traceback (most recent call last)",
      "\u001b[1;32m<ipython-input-6-9d8d87c63d5f>\u001b[0m in \u001b[0;36m<module>\u001b[1;34m\u001b[0m\n\u001b[1;32m----> 1\u001b[1;33m \u001b[1;33m[\u001b[0m\u001b[0msum\u001b[0m\u001b[1;33m(\u001b[0m\u001b[0mint\u001b[0m\u001b[1;33m(\u001b[0m\u001b[0mw\u001b[0m\u001b[1;33m)\u001b[0m\u001b[1;33m)\u001b[0m \u001b[1;32mfor\u001b[0m \u001b[0mw\u001b[0m \u001b[1;32min\u001b[0m \u001b[0mdata\u001b[0m \u001b[1;32mif\u001b[0m \u001b[0mw\u001b[0m \u001b[1;33m%\u001b[0m \u001b[1;36m5\u001b[0m \u001b[1;33m==\u001b[0m \u001b[1;36m0\u001b[0m\u001b[1;33m]\u001b[0m\u001b[1;33m\u001b[0m\u001b[1;33m\u001b[0m\u001b[0m\n\u001b[0m",
      "\u001b[1;32m<ipython-input-6-9d8d87c63d5f>\u001b[0m in \u001b[0;36m<listcomp>\u001b[1;34m(.0)\u001b[0m\n\u001b[1;32m----> 1\u001b[1;33m \u001b[1;33m[\u001b[0m\u001b[0msum\u001b[0m\u001b[1;33m(\u001b[0m\u001b[0mint\u001b[0m\u001b[1;33m(\u001b[0m\u001b[0mw\u001b[0m\u001b[1;33m)\u001b[0m\u001b[1;33m)\u001b[0m \u001b[1;32mfor\u001b[0m \u001b[0mw\u001b[0m \u001b[1;32min\u001b[0m \u001b[0mdata\u001b[0m \u001b[1;32mif\u001b[0m \u001b[0mw\u001b[0m \u001b[1;33m%\u001b[0m \u001b[1;36m5\u001b[0m \u001b[1;33m==\u001b[0m \u001b[1;36m0\u001b[0m\u001b[1;33m]\u001b[0m\u001b[1;33m\u001b[0m\u001b[1;33m\u001b[0m\u001b[0m\n\u001b[0m",
      "\u001b[1;31mTypeError\u001b[0m: unsupported operand type(s) for %: 'list' and 'int'"
     ]
    }
   ],
   "source": [
    "[sum(w) for w in data if w % 5 == 0]"
   ]
  },
  {
   "cell_type": "code",
   "execution_count": 7,
   "metadata": {},
   "outputs": [],
   "source": [
    "my_dict = { 'id1': 123456, 'id2': 654321, 'id3': None, 'id4': 777777}"
   ]
  },
  {
   "cell_type": "code",
   "execution_count": null,
   "metadata": {},
   "outputs": [],
   "source": [
    "for k in my_dict:"
   ]
  },
  {
   "cell_type": "code",
   "execution_count": 8,
   "metadata": {},
   "outputs": [],
   "source": [
    "people = {1: {'name': 'Oleg', 'age': '29', 'sex': 'Male'}, 2: {'name': 'Kate', 'age': '21', 'sex': 'Female'}, 3: {'name': 'Liza', 'age': '24', 'sex': 'Female'}, 4: {'name': 'Pavel', 'age': '36', 'sex': 'Male'}}"
   ]
  },
  {
   "cell_type": "code",
   "execution_count": 16,
   "metadata": {},
   "outputs": [
    {
     "name": "stdout",
     "output_type": "stream",
     "text": [
      "{'name': 'Oleg', 'age': '29', 'sex': 'Male'}\n",
      "a\n",
      "g\n",
      "e\n",
      "{'name': 'Kate', 'age': '21', 'sex': 'Female'}\n",
      "a\n",
      "g\n",
      "e\n",
      "{'name': 'Liza', 'age': '24', 'sex': 'Female'}\n",
      "a\n",
      "g\n",
      "e\n",
      "{'name': 'Pavel', 'age': '36', 'sex': 'Male'}\n",
      "a\n",
      "g\n",
      "e\n"
     ]
    }
   ],
   "source": [
    "for a, b in people.items():\n",
    "    print(b)\n",
    "    for c in b:\n",
    "        print(c[1])\n"
   ]
  },
  {
   "cell_type": "code",
   "execution_count": 21,
   "metadata": {},
   "outputs": [],
   "source": [
    "europe = {\n",
    " 'spain': {'capital':'madrid'}, \n",
    " 'france': {'capital':'paris'}, \n",
    " 'germany': {'capital':'berlin'}, \n",
    " 'norway': {'capital':'oslo'} }"
   ]
  },
  {
   "cell_type": "code",
   "execution_count": 24,
   "metadata": {},
   "outputs": [
    {
     "name": "stdout",
     "output_type": "stream",
     "text": [
      "<generator object <genexpr> at 0x0000026507195510>\n"
     ]
    }
   ],
   "source": [
    "print(f\"The capital of {key.capitalize()} is {city[1].capitalize()}\" for key, city in europe.items())"
   ]
  },
  {
   "cell_type": "code",
   "execution_count": 26,
   "metadata": {},
   "outputs": [],
   "source": [
    "some_oxy_text = ''' Весь мой рэп, если коротко, про то, \n",
    "что Уж который год который город под подошвой В гору, когда прет. \n",
    "Потом под гору, когда тошно Я не то, что Гулливер, но все же город под подошвой \n",
    "Город под подошвой, город под подошвой Светофоры, госпошлины, \n",
    "сборы и таможни Я не знаю, вброд или на дно эта дорожка \n",
    "Ты живешь под каблуком, у меня - город под подошвой '''"
   ]
  },
  {
   "cell_type": "code",
   "execution_count": 36,
   "metadata": {},
   "outputs": [],
   "source": [
    "some_list = some_oxy_text.lower().split(' ')"
   ]
  },
  {
   "cell_type": "code",
   "execution_count": 37,
   "metadata": {},
   "outputs": [
    {
     "data": {
      "text/plain": [
       "['',\n",
       " 'весь',\n",
       " 'мой',\n",
       " 'рэп,',\n",
       " 'если',\n",
       " 'коротко,',\n",
       " 'про',\n",
       " 'то,',\n",
       " '\\nчто',\n",
       " 'уж',\n",
       " 'который',\n",
       " 'год',\n",
       " 'который',\n",
       " 'город',\n",
       " 'под',\n",
       " 'подошвой',\n",
       " 'в',\n",
       " 'гору,',\n",
       " 'когда',\n",
       " 'прет.',\n",
       " '\\nпотом',\n",
       " 'под',\n",
       " 'гору,',\n",
       " 'когда',\n",
       " 'тошно',\n",
       " 'я',\n",
       " 'не',\n",
       " 'то,',\n",
       " 'что',\n",
       " 'гулливер,',\n",
       " 'но',\n",
       " 'все',\n",
       " 'же',\n",
       " 'город',\n",
       " 'под',\n",
       " 'подошвой',\n",
       " '\\nгород',\n",
       " 'под',\n",
       " 'подошвой,',\n",
       " 'город',\n",
       " 'под',\n",
       " 'подошвой',\n",
       " 'светофоры,',\n",
       " 'госпошлины,',\n",
       " '\\nсборы',\n",
       " 'и',\n",
       " 'таможни',\n",
       " 'я',\n",
       " 'не',\n",
       " 'знаю,',\n",
       " 'вброд',\n",
       " 'или',\n",
       " 'на',\n",
       " 'дно',\n",
       " 'эта',\n",
       " 'дорожка',\n",
       " '\\nты',\n",
       " 'живешь',\n",
       " 'под',\n",
       " 'каблуком,',\n",
       " 'у',\n",
       " 'меня',\n",
       " '-',\n",
       " 'город',\n",
       " 'под',\n",
       " 'подошвой',\n",
       " '']"
      ]
     },
     "execution_count": 37,
     "metadata": {},
     "output_type": "execute_result"
    }
   ],
   "source": [
    "some_list"
   ]
  },
  {
   "cell_type": "code",
   "execution_count": 38,
   "metadata": {},
   "outputs": [],
   "source": [
    "dict_text = {}\n",
    "for elem in some_list:\n",
    "    dict_text[elem] = "
   ]
  },
  {
   "cell_type": "code",
   "execution_count": 40,
   "metadata": {},
   "outputs": [],
   "source": [
    "geo_logs = [ \n",
    "    {'visit1': ['Москва', 'Россия']}, \n",
    "    {'visit2': ['Дели', 'Индия']}, \n",
    "    {'visit3': ['Владимир', 'Россия']}, \n",
    "    {'visit4': ['Лиссабон', 'Португалия']}, \n",
    "    {'visit5': ['Париж', 'Франция']}, \n",
    "    {'visit6': ['Лиссабон', 'Португалия']}, \n",
    "    {'visit7': ['Тула', 'Россия']}, \n",
    "    {'visit8': ['Тула', 'Россия']}, \n",
    "    {'visit9': ['Курск', 'Россия']}, \n",
    "    {'visit10': ['Архангельск', 'Россия']} ]"
   ]
  },
  {
   "cell_type": "code",
   "execution_count": 44,
   "metadata": {},
   "outputs": [],
   "source": [
    "geo_logs_russia=[]\n",
    "for x in geo_logs:\n",
    "    for visits, city in x.items():\n",
    "        if city[1] == 'Россия':\n",
    "            geo_logs_russia.append(x)"
   ]
  },
  {
   "cell_type": "code",
   "execution_count": 45,
   "metadata": {},
   "outputs": [
    {
     "data": {
      "text/plain": [
       "[{'visit1': ['Москва', 'Россия']},\n",
       " {'visit3': ['Владимир', 'Россия']},\n",
       " {'visit7': ['Тула', 'Россия']},\n",
       " {'visit8': ['Тула', 'Россия']},\n",
       " {'visit9': ['Курск', 'Россия']},\n",
       " {'visit10': ['Архангельск', 'Россия']}]"
      ]
     },
     "execution_count": 45,
     "metadata": {},
     "output_type": "execute_result"
    }
   ],
   "source": [
    "geo_logs_russia"
   ]
  },
  {
   "cell_type": "code",
   "execution_count": null,
   "metadata": {},
   "outputs": [],
   "source": []
  }
 ],
 "metadata": {
  "kernelspec": {
   "display_name": "Python 3",
   "language": "python",
   "name": "python3"
  },
  "language_info": {
   "codemirror_mode": {
    "name": "ipython",
    "version": 3
   },
   "file_extension": ".py",
   "mimetype": "text/x-python",
   "name": "python",
   "nbconvert_exporter": "python",
   "pygments_lexer": "ipython3",
   "version": "3.8.3"
  }
 },
 "nbformat": 4,
 "nbformat_minor": 4
}
