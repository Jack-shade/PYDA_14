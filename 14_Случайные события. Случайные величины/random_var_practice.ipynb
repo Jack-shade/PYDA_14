{
 "cells": [
  {
   "cell_type": "code",
   "execution_count": 1,
   "metadata": {},
   "outputs": [],
   "source": [
    "import numpy as np"
   ]
  },
  {
   "cell_type": "code",
   "execution_count": 2,
   "metadata": {},
   "outputs": [
    {
     "data": {
      "text/plain": [
       "2"
      ]
     },
     "execution_count": 2,
     "metadata": {},
     "output_type": "execute_result"
    }
   ],
   "source": [
    "# генерируем дискретную величину\n",
    "np.random.randint(1, 5)"
   ]
  },
  {
   "cell_type": "code",
   "execution_count": 18,
   "metadata": {},
   "outputs": [
    {
     "data": {
      "text/plain": [
       "array([1, 5, 3, 5, 5, 1, 1, 3, 3, 1, 1, 2, 3, 2, 2, 3, 5, 2, 1, 2, 3, 2,\n",
       "       3, 3, 5, 5, 3, 3, 2, 4, 1, 1, 5, 3, 5, 1, 3, 5, 3, 4, 1, 5, 1, 3,\n",
       "       1, 3, 4, 2, 2, 4, 4, 2, 1, 1, 3, 5, 1, 1, 4, 3, 3, 3, 2, 3, 1, 3,\n",
       "       4, 2, 2, 2, 4, 5, 4, 5, 3, 1, 1, 2, 3, 4, 3, 2, 2, 4, 4, 3, 2, 4,\n",
       "       2, 5, 4, 1, 1, 1, 1, 4, 1, 1, 4, 3])"
      ]
     },
     "execution_count": 18,
     "metadata": {},
     "output_type": "execute_result"
    }
   ],
   "source": [
    "np.random.randint(1, 6, 100)"
   ]
  },
  {
   "cell_type": "code",
   "execution_count": 4,
   "metadata": {},
   "outputs": [
    {
     "data": {
      "text/plain": [
       "array([0.01451438, 0.04250836, 0.13550627, 0.8334732 , 0.22015344,\n",
       "       0.65387737, 0.3443075 , 0.56164601, 0.71706015, 0.46547669,\n",
       "       0.40386934, 0.20172201, 0.99473485, 0.60221238, 0.69047907,\n",
       "       0.03762056, 0.59729196, 0.55300166, 0.3298741 , 0.14471002,\n",
       "       0.99411072, 0.59521522, 0.10701501, 0.24066453, 0.91624061,\n",
       "       0.07155326, 0.93113665, 0.7501065 , 0.21991264, 0.90282045,\n",
       "       0.59834172, 0.0688951 , 0.21707681, 0.7289112 , 0.97382174,\n",
       "       0.48195867, 0.40191079, 0.63049613, 0.09020997, 0.75488001,\n",
       "       0.30389871, 0.56451145, 0.7324006 , 0.86052395, 0.06177396,\n",
       "       0.74562184, 0.59390445, 0.61907375, 0.63821226, 0.7749043 ,\n",
       "       0.75212677, 0.94380899, 0.58381207, 0.8782853 , 0.01703063,\n",
       "       0.30942896, 0.09028022, 0.08821159, 0.98212902, 0.36248356,\n",
       "       0.21260196, 0.57923747, 0.96148747, 0.99379248, 0.62394331,\n",
       "       0.74891522, 0.45922577, 0.71613269, 0.8400392 , 0.55045115,\n",
       "       0.05632738, 0.78291478, 0.24469063, 0.55182621, 0.73349679,\n",
       "       0.83584698, 0.88342116, 0.56158096, 0.56344314, 0.25561446,\n",
       "       0.52941518, 0.50035864, 0.9401808 , 0.2667061 , 0.43626918,\n",
       "       0.63775401, 0.03251796, 0.16496077, 0.87944229, 0.41727461,\n",
       "       0.92733056, 0.88971794, 0.90032408, 0.80885008, 0.0503008 ,\n",
       "       0.87178274, 0.77057859, 0.30898729, 0.91772816, 0.53577989])"
      ]
     },
     "execution_count": 4,
     "metadata": {},
     "output_type": "execute_result"
    }
   ],
   "source": [
    "# генерируем непрерывную величину\n",
    "np.random.random(100)"
   ]
  },
  {
   "cell_type": "code",
   "execution_count": 5,
   "metadata": {},
   "outputs": [
    {
     "data": {
      "text/plain": [
       "4.596931744104314"
      ]
     },
     "execution_count": 5,
     "metadata": {},
     "output_type": "execute_result"
    }
   ],
   "source": [
    "np.random.uniform(1, 5)"
   ]
  },
  {
   "cell_type": "code",
   "execution_count": 6,
   "metadata": {},
   "outputs": [
    {
     "data": {
      "text/plain": [
       "array([2.94486704, 4.15384853, 4.71604765, 3.39796434, 4.00658571,\n",
       "       4.85974618, 2.99620672, 4.92293521, 1.58235062, 2.84398699,\n",
       "       4.85453956, 2.04754175, 3.59078738, 3.42849503, 2.51890361,\n",
       "       1.53014881, 2.05727938, 2.52557277, 2.19526842, 3.06954959,\n",
       "       1.03024741, 3.70097034, 3.60332469, 1.2141404 , 4.37175577,\n",
       "       4.38344957, 1.01079481, 3.54008084, 4.36024819, 3.2118793 ,\n",
       "       4.88431705, 4.4916747 , 4.42983196, 2.73266976, 4.35129269,\n",
       "       2.21986112, 4.52851502, 1.83893749, 2.87018552, 1.97406574,\n",
       "       1.33777012, 2.2558207 , 2.76448277, 3.71557789, 3.31163778,\n",
       "       3.65483604, 2.96308788, 3.62037025, 4.56189143, 4.61332634,\n",
       "       1.03659237, 4.1048261 , 3.26697702, 3.29086929, 1.65249633,\n",
       "       2.55695639, 1.7264457 , 3.80124628, 4.29582716, 2.77075081,\n",
       "       4.61551359, 1.21190679, 2.14761099, 3.26192445, 4.83627482,\n",
       "       2.63523928, 4.45624553, 3.69239412, 2.90723242, 2.32904204,\n",
       "       3.76742192, 4.51721362, 3.80928144, 4.94783194, 2.52818541,\n",
       "       1.1272208 , 4.55432647, 1.07160848, 3.72502539, 3.25015224,\n",
       "       4.02416653, 4.80265441, 3.6268423 , 4.13283021, 2.61020547,\n",
       "       3.20766351, 4.59455491, 4.19107357, 2.15547019, 2.55897607,\n",
       "       3.98584422, 4.03877289, 3.93219968, 2.26962112, 1.44499248,\n",
       "       3.72095294, 1.24360059, 1.25975032, 4.43078332, 1.51412115])"
      ]
     },
     "execution_count": 6,
     "metadata": {},
     "output_type": "execute_result"
    }
   ],
   "source": [
    "np.random.uniform(1, 5, 100)"
   ]
  },
  {
   "cell_type": "markdown",
   "metadata": {},
   "source": [
    "**Задача 1.** Оценить вероятность того, что на игральной кости выпадет больше 4 очков. Сравнить с теоретической вероятностью."
   ]
  },
  {
   "cell_type": "code",
   "execution_count": 10,
   "metadata": {},
   "outputs": [
    {
     "name": "stdout",
     "output_type": "stream",
     "text": [
      "332823 1000000 0.332823 0.3333333333333333\n"
     ]
    }
   ],
   "source": [
    "np.random.seed(None) #Это откуда начать рэндомить числа. Чтобы всегда ряд рэндомных чисел был одинаковый на разных ПК\n",
    "trials = 1000000    # Количество попыток\n",
    "successes = 0    # Количество успехов\n",
    "\n",
    "for i in range(trials):\n",
    "    random_score = np.random.randint(1, 7)    # Случайное количество очков от 1 до 6\n",
    "    if random_score > 4:\n",
    "        successes += 1\n",
    "        \n",
    "p_monte_carlo = successes / trials    # Вероятность из моделирования\n",
    "p = 2 / 6                             # Теоретическая вероятность\n",
    "\n",
    "print(successes, trials, p_monte_carlo, p)"
   ]
  },
  {
   "cell_type": "markdown",
   "metadata": {},
   "source": [
    "**Задача 1А** (опциональная). Дан квадрат, в который вписан круг (касаясь сторон квадрата). В квадрат случайным образом попадают точки. Какова вероятность, что наугад взятая точка попадёт в круг?  \n",
    "_Подсказка:_ Удобно взять квардат со стороной, равной 2, и отсчитывать координаты точек от его центра."
   ]
  },
  {
   "cell_type": "code",
   "execution_count": null,
   "metadata": {},
   "outputs": [],
   "source": []
  },
  {
   "cell_type": "code",
   "execution_count": null,
   "metadata": {},
   "outputs": [],
   "source": []
  },
  {
   "cell_type": "markdown",
   "metadata": {},
   "source": [
    "**Задача 2.** Смоделировать стрельбу по мишени."
   ]
  },
  {
   "cell_type": "code",
   "execution_count": 14,
   "metadata": {},
   "outputs": [
    {
     "data": {
      "text/plain": [
       "<matplotlib.collections.PathCollection at 0x170a4f994c0>"
      ]
     },
     "execution_count": 14,
     "metadata": {},
     "output_type": "execute_result"
    },
    {
     "data": {
      "image/png": "[encoded data removed]",
      "text/plain": [
       "<Figure size 432x288 with 1 Axes>"
      ]
     },
     "metadata": {
      "needs_background": "light"
     },
     "output_type": "display_data"
    }
   ],
   "source": [
    "import matplotlib.pyplot as plt\n",
    "\n",
    "shots = 1000    # Количество выстрелов\n",
    "std_dev = 1 # Стандартное отклонение (на сколько мы в среднем будем мазать)\n",
    "\n",
    "x = np.random.normal(0, std_dev, shots) # 0 - и среднее, и мода, и медиана\n",
    "y = np.random.normal(0, std_dev, shots)\n",
    "\n",
    "\n",
    "plt.scatter(x, y)\n",
    "# почему разброс от -3 до 3?"
   ]
  },
  {
   "cell_type": "markdown",
   "metadata": {},
   "source": [
    "**Задача 3.** Графически определить распределение измеренных значений физической величины, когда измерительный прибор имеет случайную погрешность."
   ]
  },
  {
   "cell_type": "code",
   "execution_count": 11,
   "metadata": {},
   "outputs": [
    {
     "data": {
      "text/plain": [
       "count    1040.000000\n",
       "mean       -9.797112\n",
       "std         0.087958\n",
       "min       -10.030373\n",
       "25%        -9.866481\n",
       "50%        -9.800747\n",
       "75%        -9.727398\n",
       "max        -9.570811\n",
       "Name: az, dtype: float64"
      ]
     },
     "execution_count": 11,
     "metadata": {},
     "output_type": "execute_result"
    }
   ],
   "source": [
    "import pandas as pd\n",
    "\n",
    "data = pd.read_csv(\"data.log\", sep=\" \")[\"az\"]\n",
    "data.describe()"
   ]
  },
  {
   "cell_type": "code",
   "execution_count": 12,
   "metadata": {},
   "outputs": [
    {
     "data": {
      "text/plain": [
       "<matplotlib.axes._subplots.AxesSubplot at 0x170a46cbdf0>"
      ]
     },
     "execution_count": 12,
     "metadata": {},
     "output_type": "execute_result"
    },
    {
     "data": {
      "image/png": "[encoded data removed]",
      "text/plain": [
       "<Figure size 432x288 with 1 Axes>"
      ]
     },
     "metadata": {
      "needs_background": "light"
     },
     "output_type": "display_data"
    }
   ],
   "source": [
    "data.plot()"
   ]
  },
  {
   "cell_type": "code",
   "execution_count": 15,
   "metadata": {},
   "outputs": [
    {
     "ename": "NameError",
     "evalue": "name 'uni' is not defined",
     "output_type": "error",
     "traceback": [
      "\u001b[1;31m---------------------------------------------------------------------------\u001b[0m",
      "\u001b[1;31mNameError\u001b[0m                                 Traceback (most recent call last)",
      "\u001b[1;32m<ipython-input-15-f9cbf9684830>\u001b[0m in \u001b[0;36m<module>\u001b[1;34m\u001b[0m\n\u001b[1;32m----> 1\u001b[1;33m \u001b[0mplt\u001b[0m\u001b[1;33m.\u001b[0m\u001b[0mhist\u001b[0m\u001b[1;33m(\u001b[0m\u001b[0muni\u001b[0m\u001b[1;33m,\u001b[0m \u001b[0mbins\u001b[0m\u001b[1;33m=\u001b[0m\u001b[1;36m11\u001b[0m\u001b[1;33m)\u001b[0m\u001b[1;33m\u001b[0m\u001b[1;33m\u001b[0m\u001b[0m\n\u001b[0m\u001b[0;32m      2\u001b[0m \u001b[0mplt\u001b[0m\u001b[1;33m.\u001b[0m\u001b[0mshow\u001b[0m\u001b[1;33m(\u001b[0m\u001b[1;33m)\u001b[0m\u001b[1;33m\u001b[0m\u001b[1;33m\u001b[0m\u001b[0m\n\u001b[0;32m      3\u001b[0m \u001b[0mplt\u001b[0m\u001b[1;33m.\u001b[0m\u001b[0mhist\u001b[0m\u001b[1;33m(\u001b[0m\u001b[0mnormal\u001b[0m\u001b[1;33m,\u001b[0m \u001b[0mbins\u001b[0m\u001b[1;33m=\u001b[0m\u001b[1;36m11\u001b[0m\u001b[1;33m)\u001b[0m\u001b[1;33m\u001b[0m\u001b[1;33m\u001b[0m\u001b[0m\n\u001b[0;32m      4\u001b[0m \u001b[0mplt\u001b[0m\u001b[1;33m.\u001b[0m\u001b[0mshow\u001b[0m\u001b[1;33m(\u001b[0m\u001b[1;33m)\u001b[0m\u001b[1;33m\u001b[0m\u001b[1;33m\u001b[0m\u001b[0m\n\u001b[0;32m      5\u001b[0m \u001b[0mplt\u001b[0m\u001b[1;33m.\u001b[0m\u001b[0mhist\u001b[0m\u001b[1;33m(\u001b[0m\u001b[0mdata\u001b[0m\u001b[1;33m,\u001b[0m \u001b[0mbins\u001b[0m\u001b[1;33m=\u001b[0m\u001b[1;36m11\u001b[0m\u001b[1;33m)\u001b[0m\u001b[1;33m\u001b[0m\u001b[1;33m\u001b[0m\u001b[0m\n",
      "\u001b[1;31mNameError\u001b[0m: name 'uni' is not defined"
     ]
    }
   ],
   "source": [
    "plt.hist(uni, bins=11)\n",
    "plt.show()\n",
    "plt.hist(normal, bins=11)\n",
    "plt.show()\n",
    "plt.hist(data, bins=11)\n",
    "plt.show()"
   ]
  },
  {
   "cell_type": "markdown",
   "metadata": {},
   "source": [
    "**Задача 4.** Рассчитать вероятность того, что пациент заражён COVID-19, если известно, что тест дал положительный результат. Сравнить с результатом моделирования."
   ]
  },
  {
   "cell_type": "code",
   "execution_count": 16,
   "metadata": {},
   "outputs": [
    {
     "name": "stdout",
     "output_type": "stream",
     "text": [
      "0.8260869565217391\n"
     ]
    }
   ],
   "source": [
    "prev = 0.50    # Распространённость болезни\n",
    "sens = 0.95    # Чувствительность теста\n",
    "spec = 0.80    # Специфичность теста\n",
    "\n",
    "p = (sens * prev) / (sens * prev + (1 - spec) * (1 - prev))   # Теоретическая вероятность \n",
    "print(p)"
   ]
  },
  {
   "cell_type": "code",
   "execution_count": 17,
   "metadata": {},
   "outputs": [
    {
     "name": "stdout",
     "output_type": "stream",
     "text": [
      "0.8833333333333333\n"
     ]
    }
   ],
   "source": [
    "population = 100    # Количество испытуемых\n",
    "\n",
    "true_pos = 0    # Количество больных с положительным тестом\n",
    "false_pos = 0   # Количество здоровых с положительным тестом\n",
    "\n",
    "for i in range(population):\n",
    "    # Наугад решаем, заражён ли человек\n",
    "    # для этого генерируем случайную величину от 0 до 1     \n",
    "    infected = np.random.uniform() < prev\n",
    "    \n",
    "    # Наугад решаем, дал ли тест положительный результат \n",
    "    positive = np.random.uniform() < sens if infected else np.random.uniform() < 1 - spec\n",
    "    \n",
    "    if positive:\n",
    "        if infected:\n",
    "            true_pos += 1\n",
    "        else:\n",
    "            false_pos += 1\n",
    "            \n",
    "p_monte_carlo = true_pos / (true_pos + false_pos)    # Вероятность из моделирования\n",
    "print(p_monte_carlo)"
   ]
  },
  {
   "cell_type": "code",
   "execution_count": null,
   "metadata": {},
   "outputs": [],
   "source": []
  }
 ],
 "metadata": {
  "kernelspec": {
   "display_name": "Python 3",
   "language": "python",
   "name": "python3"
  },
  "language_info": {
   "codemirror_mode": {
    "name": "ipython",
    "version": 3
   },
   "file_extension": ".py",
   "mimetype": "text/x-python",
   "name": "python",
   "nbconvert_exporter": "python",
   "pygments_lexer": "ipython3",
   "version": "3.8.3"
  }
 },
 "nbformat": 4,
 "nbformat_minor": 4
}
