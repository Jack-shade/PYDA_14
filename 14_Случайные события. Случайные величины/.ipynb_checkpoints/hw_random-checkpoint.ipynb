{
 "cells": [
  {
   "cell_type": "markdown",
   "metadata": {},
   "source": [
    "Смоделировать игру против лотерейного автомата типа “777”. Игрок платит 1 руб., после чего выпадает случайное целое число, равномерно распределенное от 0 до 999. При некоторых значениях числа игрок получает выигрыш (см. справа)\n",
    "\n",
    "Выгодна ли игра игроку?\n",
    "\n",
    "Сколько в среднем приобретает\n",
    "или теряет игрок за одну игру?\n",
    "\n",
    "    777: 200 руб.\n",
    "    999: 100 руб.\n",
    "    555: 50 руб.\n",
    "    333: 15 руб.\n",
    "    111: 10 руб.\n",
    "    *77: 5 руб.\n",
    "    **7: 3 руб.\n",
    "    *00: 2 руб.\n",
    "    **0: 1 руб.\n",
    "\n",
    "    * – любая цифра\n",
    "\n",
    "Дополнительное задание повышенной сложности. Теоретически рассчитать средний выигрыш (проигрыш) и сравнить с результатами моделирования"
   ]
  },
  {
   "cell_type": "code",
   "execution_count": 1,
   "metadata": {},
   "outputs": [],
   "source": [
    "import numpy as np"
   ]
  },
  {
   "cell_type": "code",
   "execution_count": 24,
   "metadata": {},
   "outputs": [
    {
     "name": "stdout",
     "output_type": "stream",
     "text": [
      "\n",
      "        Количество попыток: 1000000\n",
      "\n",
      "        Количество удачных: 203772\n",
      "\n",
      "        Потрачено: 1000000\n",
      "\n",
      "        Выиграно: 798327\n",
      "\n",
      "        Результат: -201673\n",
      "\n",
      "        Вывод: Игра явно не выгодна, ни при каком кол-ве попыток.\n",
      "\n",
      "        В среднем игрок за 1 игру теряет: -0.20 монеты\n",
      "        \n"
     ]
    }
   ],
   "source": [
    "test_quantity = 1000000 # кол-во попыток, по совместительсту базовый баланс денег играющего человека\n",
    "successful = 0 # кол-во успешных попыток, чтобы потом по монте карло посчитать\n",
    "bonus = 0 # деньги, которые он выиграл с \"test_quantity\" количества попыток.\n",
    "\n",
    "for x in range(test_quantity):\n",
    "    value = np.random.randint(0, 1000)\n",
    "\n",
    "    if value == 777:\n",
    "        bonus += 200\n",
    "        successful += 1\n",
    "    elif value == 999:\n",
    "        bonus += 100\n",
    "        successful += 1\n",
    "    elif value == 555:\n",
    "        bonus += 50\n",
    "        successful += 1\n",
    "    elif value == 333:\n",
    "        bonus += 15\n",
    "        successful += 1\n",
    "    elif value == 111:\n",
    "        bonus += 10\n",
    "        successful += 1\n",
    "    elif value % 100 == 77:\n",
    "        bonus += 5\n",
    "        successful += 1\n",
    "    elif value % 10 == 7:\n",
    "        bonus += 3\n",
    "        successful += 1\n",
    "    elif value % 100 == 0:\n",
    "        bonus += 2\n",
    "        successful += 1\n",
    "    elif value % 10 == 0:\n",
    "        bonus += 1\n",
    "        successful += 1\n",
    "    else:\n",
    "        continue\n",
    "\n",
    "print(f'''\n",
    "        Количество попыток: {test_quantity}\\n\n",
    "        Количество удачных: {successful}\\n\n",
    "        Потрачено: {test_quantity}\\n\n",
    "        Выиграно: {bonus}\\n\n",
    "        Результат: {bonus - test_quantity}\\n\n",
    "        Вывод: Игра явно не выгодна, ни при каком кол-ве попыток.\\n\n",
    "        В среднем игрок за 1 игру теряет: {(bonus - test_quantity) / test_quantity:.2f} монеты\n",
    "        ''')"
   ]
  },
  {
   "cell_type": "markdown",
   "metadata": {},
   "source": [
    "### Теория:"
   ]
  },
  {
   "cell_type": "markdown",
   "metadata": {},
   "source": [
    "Количество возможных успешных попыток: \n",
    "\n",
    "    777: 1\n",
    "    999: 1\n",
    "    555: 1\n",
    "    333: 1\n",
    "    111: 1\n",
    "    *77: 10\n",
    "    **7: 100\n",
    "    *00: 10\n",
    "    **0: 100\n",
    "\n",
    "Итого: 225 успешных вариаций\n",
    "\n",
    "Всего может быть 1000 (от 000 до 999)\n",
    "\n",
    "##### То есть вероятность успешного исхода: 225 / 1000 = 0,225\n",
    "    "
   ]
  },
  {
   "cell_type": "markdown",
   "metadata": {},
   "source": [
    "Если взять формулу: x_ave = p1 * x1 +(1-p1) * (-1) (тут явно -1, так как теряется монета)\n",
    "\n",
    "То размышления следующие: \n",
    "\n",
    "    777: 0,001\n",
    "    999: 0,001\n",
    "    555: 0,001\n",
    "    333: 0,001\n",
    "    111: 0,001\n",
    "    *77: 0,01\n",
    "    **7: 0,1\n",
    "    *00: 0,01\n",
    "    **0: 0,1\n"
   ]
  },
  {
   "cell_type": "code",
   "execution_count": 51,
   "metadata": {},
   "outputs": [],
   "source": [
    "x_dict = {\n",
    "    '777': ['0.001', '200'],\n",
    "    '999': ['0.001', '100'],\n",
    "    '555': ['0.001', '50'],\n",
    "    '333': ['0.001', '15'],\n",
    "    '111': ['0.001', '10'],\n",
    "    '*77': ['0.01', '5'],\n",
    "    '**7': ['0.1', '3'],\n",
    "    '*00': ['0.01', '2'],\n",
    "    '**0': ['0.1', '1']\n",
    "}"
   ]
  },
  {
   "cell_type": "code",
   "execution_count": 78,
   "metadata": {},
   "outputs": [
    {
     "name": "stdout",
     "output_type": "stream",
     "text": [
      "0.8450000000000001 0.225\n",
      "0.07000000000000006\n"
     ]
    }
   ],
   "source": [
    "x_ave_p = 0.0\n",
    "probability = 0.0\n",
    "for x in x_dict.values():\n",
    "    x_ave_p = x_ave_p + (float(x[0]) * float(x[1]))\n",
    "    probability = probability + float(x[0])\n",
    "\n",
    "print(x_ave_p, probability)\n",
    "x_ave_p = x_ave_p + (1.0 - probability)*(-1)\n",
    "\n",
    "print(x_ave_p) # средний выигрыш за 1 игру"
   ]
  },
  {
   "cell_type": "markdown",
   "metadata": {},
   "source": [
    "Процент 22,5 - примерно сходится с моделью. Там около 20,37%.\n",
    "\n",
    "Но вот почему выигрыш 7 копеек - не могу понять... =( \n",
    "\n",
    "Ожидал то минус 20 копеек"
   ]
  }
 ],
 "metadata": {
  "kernelspec": {
   "display_name": "Python 3",
   "language": "python",
   "name": "python3"
  },
  "language_info": {
   "codemirror_mode": {
    "name": "ipython",
    "version": 3
   },
   "file_extension": ".py",
   "mimetype": "text/x-python",
   "name": "python",
   "nbconvert_exporter": "python",
   "pygments_lexer": "ipython3",
   "version": "3.8.3"
  }
 },
 "nbformat": 4,
 "nbformat_minor": 4
}
