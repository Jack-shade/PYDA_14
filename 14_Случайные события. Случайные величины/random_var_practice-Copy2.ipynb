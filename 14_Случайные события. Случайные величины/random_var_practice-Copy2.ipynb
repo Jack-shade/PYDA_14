{
 "cells": [
  {
   "cell_type": "code",
   "execution_count": 1,
   "metadata": {},
   "outputs": [],
   "source": [
    "import numpy as np"
   ]
  },
  {
   "cell_type": "code",
   "execution_count": 13,
   "metadata": {},
   "outputs": [
    {
     "data": {
      "text/plain": [
       "3"
      ]
     },
     "execution_count": 13,
     "metadata": {},
     "output_type": "execute_result"
    }
   ],
   "source": [
    "# генерируем дискретную величину\n",
    "np.random.randint(1, 5)"
   ]
  },
  {
   "cell_type": "code",
   "execution_count": 16,
   "metadata": {},
   "outputs": [
    {
     "data": {
      "text/plain": [
       "array([2, 1, 4, 4, 3, 1, 3, 1, 2, 3, 4, 4, 2, 1, 1, 2, 1, 3, 3, 1, 4, 3,\n",
       "       1, 3, 4, 3, 2, 3, 1, 2, 2, 2, 2, 4, 3, 4, 3, 2, 1, 1, 1, 2, 3, 3,\n",
       "       3, 3, 1, 3, 4, 4, 1, 3, 1, 3, 2, 3, 2, 4, 1, 2, 3, 1, 1, 2, 4, 2,\n",
       "       2, 3, 4, 4, 4, 3, 1, 1, 1, 2, 1, 1, 1, 1, 2, 2, 3, 2, 4, 2, 1, 1,\n",
       "       2, 2, 4, 3, 2, 3, 2, 4, 1, 1, 2, 4])"
      ]
     },
     "execution_count": 16,
     "metadata": {},
     "output_type": "execute_result"
    }
   ],
   "source": [
    "np.random.randint(1, 5, 100)"
   ]
  },
  {
   "cell_type": "code",
   "execution_count": 17,
   "metadata": {},
   "outputs": [
    {
     "data": {
      "text/plain": [
       "array([0.31837712, 0.70794588, 0.75797452, 0.00876794, 0.64738765,\n",
       "       0.94869623, 0.75803731, 0.92042611, 0.17001332, 0.4384615 ,\n",
       "       0.29926131, 0.69503464, 0.42389386, 0.47842975, 0.28189112,\n",
       "       0.82632159, 0.65229901, 0.96638674, 0.73345741, 0.3718522 ,\n",
       "       0.10651957, 0.48681983, 0.97333791, 0.24651182, 0.83306088,\n",
       "       0.77510947, 0.88215917, 0.57350995, 0.31601298, 0.89071171,\n",
       "       0.40270114, 0.55630402, 0.97974493, 0.63688305, 0.1336086 ,\n",
       "       0.32721945, 0.20018411, 0.90676333, 0.40227742, 0.94445511,\n",
       "       0.68230717, 0.56905218, 0.38221602, 0.45838873, 0.22176767,\n",
       "       0.74584469, 0.53161593, 0.79483391, 0.56881658, 0.35971658,\n",
       "       0.45395055, 0.95802202, 0.90633043, 0.52891606, 0.20248611,\n",
       "       0.70732045, 0.81962359, 0.55673259, 0.80674816, 0.15593752,\n",
       "       0.99832512, 0.50955307, 0.04246946, 0.25566811, 0.27077485,\n",
       "       0.74991442, 0.09660325, 0.76393582, 0.3136795 , 0.98059811,\n",
       "       0.26386055, 0.21467297, 0.01272737, 0.41138107, 0.4086811 ,\n",
       "       0.05779457, 0.87242938, 0.61909618, 0.55280021, 0.8406438 ,\n",
       "       0.14390154, 0.8378727 , 0.27846307, 0.21700825, 0.1638478 ,\n",
       "       0.48471002, 0.7937453 , 0.76935656, 0.39553406, 0.24531447,\n",
       "       0.84663759, 0.49502898, 0.70972506, 0.03267774, 0.06679595,\n",
       "       0.16917003, 0.07936905, 0.49767685, 0.66861316, 0.375565  ])"
      ]
     },
     "execution_count": 17,
     "metadata": {},
     "output_type": "execute_result"
    }
   ],
   "source": [
    "# генерируем непрерывную величину\n",
    "np.random.random(100)"
   ]
  },
  {
   "cell_type": "code",
   "execution_count": 18,
   "metadata": {},
   "outputs": [
    {
     "data": {
      "text/plain": [
       "4.057010804305536"
      ]
     },
     "execution_count": 18,
     "metadata": {},
     "output_type": "execute_result"
    }
   ],
   "source": [
    "np.random.uniform(1, 5)"
   ]
  },
  {
   "cell_type": "code",
   "execution_count": 19,
   "metadata": {},
   "outputs": [
    {
     "data": {
      "text/plain": [
       "array([3.2971989 , 2.71440044, 1.88482221, 4.61103202, 2.42866694,\n",
       "       1.39704462, 4.44223865, 2.15862529, 3.25671313, 1.79207632,\n",
       "       3.31959013, 4.21986768, 4.97169105, 1.0354827 , 2.25673172,\n",
       "       4.55865984, 1.87242084, 3.88839632, 1.30651319, 3.33714144,\n",
       "       2.2822214 , 4.78715041, 2.873321  , 2.52647947, 2.91822736,\n",
       "       4.45025117, 3.67765494, 1.38668457, 4.22633166, 3.35351936,\n",
       "       4.93965098, 1.16508659, 1.74669999, 1.93218265, 3.17139704,\n",
       "       1.98022828, 4.61526882, 3.13656044, 2.26215809, 4.05034738,\n",
       "       3.1731647 , 3.63568523, 4.40844462, 1.92013651, 4.73922932,\n",
       "       4.48478544, 1.52371139, 4.04913155, 1.52137243, 2.83096164,\n",
       "       4.37201684, 1.98304743, 1.34039596, 1.11090423, 1.53478443,\n",
       "       1.4977052 , 2.94830681, 1.2535287 , 3.80197394, 3.60429328,\n",
       "       2.33019091, 3.86735993, 1.34323773, 1.23867781, 1.5161679 ,\n",
       "       3.89181342, 3.43220446, 2.79399401, 1.53156812, 2.06160906,\n",
       "       3.4631935 , 4.52559261, 3.13255406, 3.35764642, 1.74304406,\n",
       "       3.74970165, 1.38912612, 2.56368798, 4.11586784, 1.81443013,\n",
       "       3.15392708, 4.61335721, 3.34354518, 3.39399401, 1.3962056 ,\n",
       "       2.98359434, 1.54762275, 4.46600007, 3.89112022, 3.8637084 ,\n",
       "       3.68049454, 4.10073896, 3.59260548, 2.29613698, 2.16769049,\n",
       "       2.06808418, 4.03245926, 4.04068823, 4.08173489, 3.32971265])"
      ]
     },
     "execution_count": 19,
     "metadata": {},
     "output_type": "execute_result"
    }
   ],
   "source": [
    "np.random.uniform(1, 5, 100)"
   ]
  },
  {
   "cell_type": "markdown",
   "metadata": {},
   "source": [
    "**Задача 1.** Оценить вероятность того, что на игральной кости выпадет больше 4 очков. Сравнить с теоретической вероятностью."
   ]
  },
  {
   "cell_type": "code",
   "execution_count": 41,
   "metadata": {},
   "outputs": [
    {
     "name": "stdout",
     "output_type": "stream",
     "text": [
      "33264 100000 0.33264 0.3333333333333333\n"
     ]
    }
   ],
   "source": [
    "import numpy as np\n",
    "np.random.seed(None)\n",
    "trials = 100000    # Количество попыток\n",
    "successes = 0    # Количество успехов\n",
    "\n",
    "for i in range(trials):\n",
    "    random_score = np.random.randint(1, 7)    # Случайное количество очков от 1 до 6\n",
    "    if random_score > 4:\n",
    "        successes += 1\n",
    "        \n",
    "p_monte_carlo = successes / trials    # Вероятность из моделирования\n",
    "p = 2 / 6                             # Теоретическая вероятность\n",
    "\n",
    "print(successes, trials, p_monte_carlo, p)"
   ]
  },
  {
   "cell_type": "markdown",
   "metadata": {},
   "source": [
    "**Задача 1А** (опциональная). Дан квадрат, в который вписан круг (касаясь сторон квадрата). В квадрат случайным образом попадают точки. Какова вероятность, что наугад взятая точка попадёт в круг?  \n",
    "_Подсказка:_ Удобно взять квардат со стороной, равной 2, и отсчитывать координаты точек от его центра."
   ]
  },
  {
   "cell_type": "code",
   "execution_count": 46,
   "metadata": {},
   "outputs": [
    {
     "name": "stdout",
     "output_type": "stream",
     "text": [
      "0.78594\n"
     ]
    }
   ],
   "source": [
    "trials = 1000000\n",
    "success = 0\n",
    "\n",
    "for i in range(trials):\n",
    "    x = np.random.uniform(-1, 1)\n",
    "    y = np.random.uniform(-1, 1)\n",
    "    if x**2 + y**2 < 1:\n",
    "        success += 1\n",
    "\n",
    "print(success / trials)"
   ]
  },
  {
   "cell_type": "code",
   "execution_count": 47,
   "metadata": {},
   "outputs": [
    {
     "name": "stdout",
     "output_type": "stream",
     "text": [
      "3.14376\n"
     ]
    }
   ],
   "source": [
    "print(success / trials * 4)"
   ]
  },
  {
   "cell_type": "markdown",
   "metadata": {},
   "source": [
    "**Задача 2.** Смоделировать стрельбу по мишени."
   ]
  },
  {
   "cell_type": "code",
   "execution_count": 52,
   "metadata": {},
   "outputs": [
    {
     "data": {
      "text/plain": [
       "<matplotlib.collections.PathCollection at 0x21e0626f848>"
      ]
     },
     "execution_count": 52,
     "metadata": {},
     "output_type": "execute_result"
    },
    {
     "data": {
      "image/png": "[encoded data removed]",
      "text/plain": [
       "<Figure size 432x288 with 1 Axes>"
      ]
     },
     "metadata": {
      "needs_background": "light"
     },
     "output_type": "display_data"
    }
   ],
   "source": [
    "import matplotlib.pyplot as plt\n",
    "\n",
    "shots = 100000    # Количество выстрелов\n",
    "std_dev = 1 # Стандартное отклонение (на сколько мы в среднем будем мазать)\n",
    "\n",
    "x = np.random.normal(0, std_dev, shots) # 0 - и среднее, и мода, и медиана\n",
    "y = np.random.normal(0, std_dev, shots)\n",
    "\n",
    "\n",
    "plt.scatter(x, y)\n",
    "# почему разброс от -3 до 3?"
   ]
  },
  {
   "cell_type": "markdown",
   "metadata": {},
   "source": [
    "**Задача 3.** Графически определить распределение измеренных значений физической величины, когда измерительный прибор имеет случайную погрешность."
   ]
  },
  {
   "cell_type": "code",
   "execution_count": 53,
   "metadata": {},
   "outputs": [
    {
     "data": {
      "text/plain": [
       "count    1040.000000\n",
       "mean       -9.797112\n",
       "std         0.087958\n",
       "min       -10.030373\n",
       "25%        -9.866481\n",
       "50%        -9.800747\n",
       "75%        -9.727398\n",
       "max        -9.570811\n",
       "Name: az, dtype: float64"
      ]
     },
     "execution_count": 53,
     "metadata": {},
     "output_type": "execute_result"
    }
   ],
   "source": [
    "import pandas as pd\n",
    "\n",
    "data = pd.read_csv(\"data.log\", sep=\" \")[\"az\"]\n",
    "data.describe()"
   ]
  },
  {
   "cell_type": "code",
   "execution_count": 54,
   "metadata": {},
   "outputs": [
    {
     "data": {
      "text/plain": [
       "<AxesSubplot:>"
      ]
     },
     "execution_count": 54,
     "metadata": {},
     "output_type": "execute_result"
    },
    {
     "data": {
      "image/png": "[encoded data removed]",
      "text/plain": [
       "<Figure size 432x288 with 1 Axes>"
      ]
     },
     "metadata": {
      "needs_background": "light"
     },
     "output_type": "display_data"
    }
   ],
   "source": [
    "data.plot()"
   ]
  },
  {
   "cell_type": "code",
   "execution_count": 55,
   "metadata": {},
   "outputs": [],
   "source": [
    "uni = np.random.uniform(min(data), max(data), 10000)\n",
    "normal = np.random.normal(np.mean(data), np.std(data, ddof=1), 10000)"
   ]
  },
  {
   "cell_type": "code",
   "execution_count": 56,
   "metadata": {},
   "outputs": [
    {
     "data": {
      "image/png": "[encoded data removed]",
      "text/plain": [
       "<Figure size 432x288 with 1 Axes>"
      ]
     },
     "metadata": {
      "needs_background": "light"
     },
     "output_type": "display_data"
    },
    {
     "data": {
      "image/png": "[encoded data removed]",
      "text/plain": [
       "<Figure size 432x288 with 1 Axes>"
      ]
     },
     "metadata": {
      "needs_background": "light"
     },
     "output_type": "display_data"
    },
    {
     "data": {
      "image/png": "[encoded data removed]",
      "text/plain": [
       "<Figure size 432x288 with 1 Axes>"
      ]
     },
     "metadata": {
      "needs_background": "light"
     },
     "output_type": "display_data"
    }
   ],
   "source": [
    "plt.hist(uni, bins=11)\n",
    "plt.show()\n",
    "plt.hist(normal, bins=11)\n",
    "plt.show()\n",
    "plt.hist(data, bins=11)\n",
    "plt.show()"
   ]
  },
  {
   "cell_type": "markdown",
   "metadata": {},
   "source": [
    "**Задача 4.** Рассчитать вероятность того, что пациент заражён COVID-19, если известно, что тест дал положительный результат. Сравнить с результатом моделирования."
   ]
  },
  {
   "cell_type": "code",
   "execution_count": 63,
   "metadata": {},
   "outputs": [
    {
     "name": "stdout",
     "output_type": "stream",
     "text": [
      "0.20000000000000007\n"
     ]
    }
   ],
   "source": [
    "prev = 0.05   # Распространённость болезни\n",
    "sens = 0.95    # Чувствительность теста\n",
    "spec = 0.80    # Специфичность теста\n",
    "\n",
    "p = (sens * prev) / (sens * prev + (1 - spec) * (1 - prev))   # Теоретическая вероятность \n",
    "print(p)"
   ]
  },
  {
   "cell_type": "code",
   "execution_count": 64,
   "metadata": {},
   "outputs": [
    {
     "name": "stdout",
     "output_type": "stream",
     "text": [
      "0.19945940947000268\n"
     ]
    }
   ],
   "source": [
    "population = 1000000    # Количество испытуемых\n",
    "\n",
    "true_pos = 0    # Количество больных с положительным тестом\n",
    "false_pos = 0   # Количество здоровых с положительным тестом\n",
    "\n",
    "for i in range(population):\n",
    "    # Наугад решаем, заражён ли человек\n",
    "    # для этого генерируем случайную величину от 0 до 1     \n",
    "    infected = np.random.uniform() < prev\n",
    "    \n",
    "    # Наугад решаем, дал ли тест положительный результат \n",
    "    positive = np.random.uniform() < sens if infected else np.random.uniform() < 1 - spec\n",
    "    \n",
    "    if positive:\n",
    "        if infected:\n",
    "            true_pos += 1\n",
    "        else:\n",
    "            false_pos += 1\n",
    "            \n",
    "p_monte_carlo = true_pos / (true_pos + false_pos)    # Вероятность из моделирования\n",
    "print(p_monte_carlo)"
   ]
  },
  {
   "cell_type": "code",
   "execution_count": null,
   "metadata": {},
   "outputs": [],
   "source": []
  },
  {
   "cell_type": "code",
   "execution_count": null,
   "metadata": {},
   "outputs": [],
   "source": []
  }
 ],
 "metadata": {
  "kernelspec": {
   "display_name": "Python 3",
   "language": "python",
   "name": "python3"
  },
  "language_info": {
   "codemirror_mode": {
    "name": "ipython",
    "version": 3
   },
   "file_extension": ".py",
   "mimetype": "text/x-python",
   "name": "python",
   "nbconvert_exporter": "python",
   "pygments_lexer": "ipython3",
   "version": "3.7.9"
  }
 },
 "nbformat": 4,
 "nbformat_minor": 4
}
