{
 "cells": [
  {
   "cell_type": "markdown",
   "metadata": {},
   "source": [
    "Вам нужно помочь секретарю автоматизировать работу. Для этого нужно написать программу, которая будет на основе хранимых данных исполнять пользовательские команды.\n",
    "\n",
    "Исходные данные имеют следующую структуру:"
   ]
  },
  {
   "cell_type": "raw",
   "metadata": {},
   "source": [
    "Общие требования к программе:\n",
    "\n",
    "код должен быть грамотно декомпозирован (каждая функция отвечает за свою конкретную задачу, дублирующийся функционал переиспользуется, а его код не повторяется);\n",
    "в коде отсутствуют глобальные переменные (за исключением documents и directories);\n",
    "пользовательский ввод обрабатывается в цикле while до тех пор, пока пользователь явно не завершит программу (вводом команды \"q\")."
   ]
  },
  {
   "cell_type": "markdown",
   "metadata": {},
   "source": [
    "Пункт 1. Пользователь по команде \"p\" может узнать владельца документа по его номеру"
   ]
  },
  {
   "cell_type": "markdown",
   "metadata": {},
   "source": [
    "Пункт 2. Пользователь по команде \"s\" может по номеру документа узнать на какой полке он хранится"
   ]
  },
  {
   "cell_type": "markdown",
   "metadata": {},
   "source": [
    "Пункт 3. Пользователь по команде \"l\" может увидеть полную информацию по всем документам"
   ]
  },
  {
   "cell_type": "markdown",
   "metadata": {},
   "source": [
    "Пункт 4. Пользователь по команде \"ads\" может добавить новую полку"
   ]
  },
  {
   "cell_type": "markdown",
   "metadata": {},
   "source": [
    "Пункт 5. Пользователь по команде \"ds\" может удалить существующую полку из данных (только если она пустая)"
   ]
  },
  {
   "cell_type": "markdown",
   "metadata": {},
   "source": [
    "Пункт 1. Пользователь по команде \"ad\" может добавить новый документ в данные"
   ]
  },
  {
   "cell_type": "markdown",
   "metadata": {},
   "source": [
    "Пункт 2. Пользователь по команде \"d\" может удалить документ из данных"
   ]
  },
  {
   "cell_type": "markdown",
   "metadata": {},
   "source": [
    "Пункт 3. Пользователь по команде \"m\" может переместить документ с полки на полку"
   ]
  },
  {
   "cell_type": "code",
   "execution_count": 3,
   "metadata": {},
   "outputs": [],
   "source": [
    "# перечень всех документов\n",
    "documents = [\n",
    " {'type': 'passport', 'number': '2207 876234', 'name': 'Василий Гупкин'},\n",
    " {'type': 'invoice', 'number': '11-2', 'name': 'Геннадий Покемонов'},\n",
    " {'type': 'insurance', 'number': '10006', 'name': 'Аристарх Павлов'}\n",
    "]"
   ]
  },
  {
   "cell_type": "code",
   "execution_count": 57,
   "metadata": {},
   "outputs": [],
   "source": [
    "# перечень полок, на которых хранятся документы (если документ есть в documents, то он обязательно должен быть и в directories)\n",
    "directories = {\n",
    " '1': ['2207 876234', '11-2'],\n",
    " '2': ['10006'],\n",
    " '3': []\n",
    "}"
   ]
  },
  {
   "cell_type": "code",
   "execution_count": 130,
   "metadata": {},
   "outputs": [],
   "source": [
    "def check_command (command):\n",
    "    \"\"\"\n",
    "    Функция проверяет на корректность ввода команды.\n",
    "    Текущий список команд: \n",
    "    p - узнать владельца документа по его номеру\n",
    "    s - по номеру документа узнать на какой полке он хранится\n",
    "    i - увидеть полную информацию по всем документам\n",
    "    ads - добавить новую полку\n",
    "    ds - удалить существующую полку из данных (только если она пустая)\n",
    "    ad - добавить новый документ в данные\n",
    "    d - удалить документ из данных\n",
    "    m - переместить документ с полки на полку\n",
    "    q - выход из программы\n",
    "    \n",
    "    Команды находятся в списке command_list.\n",
    "    Функция возвращает True или False\n",
    "    \"\"\"\n",
    "    command_list = ['p', 's', 'i', 'ads', 'ds', 'ad', 'd', 'm', 'q']\n",
    "    if command in command_list:\n",
    "        return True\n",
    "    else: \n",
    "        return False"
   ]
  },
  {
   "cell_type": "code",
   "execution_count": 73,
   "metadata": {},
   "outputs": [],
   "source": [
    "def check_number_name(number_doc):\n",
    "    \"\"\"\n",
    "    Функция ищет введнный номер документа в словаре списка documents (ключ 'number') \n",
    "    Если находит - возвращает имя (ключ 'name' того же словаря).\n",
    "    Если не находит - возвращает None\n",
    "    \"\"\"\n",
    "    for document in documents:\n",
    "        if number_doc == document['number']:\n",
    "            return document['name']\n",
    "    return None"
   ]
  },
  {
   "cell_type": "code",
   "execution_count": 36,
   "metadata": {},
   "outputs": [],
   "source": [
    "def check_number_shelf(number_doc):\n",
    "    \"\"\"\n",
    "    Функция ищет введнный номер документа в словаре directories. \n",
    "    Если находит - отдает в параметрах номер полки. \n",
    "    Если не находит - отдает None\n",
    "    \"\"\"\n",
    "    for number_shelf, list_documents in directories.items():\n",
    "        if number_doc in list_documents:\n",
    "            return number_shelf\n",
    "    return None"
   ]
  },
  {
   "cell_type": "code",
   "execution_count": 45,
   "metadata": {},
   "outputs": [],
   "source": [
    "def full_information():\n",
    "    \"\"\"\n",
    "    Функция не принимает и не отдает аргументов, просто выводит информацию по докумантам\n",
    "    при этом смотрим на какой полке лежат документы. \n",
    "    \"\"\"\n",
    "    for document in documents:\n",
    "        print(f\"№: {document['number']}, тип: {document['type']}, владелец: {document['name']}, полка хранения: {check_number_shelf(document['number'])}\")"
   ]
  },
  {
   "cell_type": "code",
   "execution_count": 67,
   "metadata": {},
   "outputs": [],
   "source": [
    "def add_shelf(number_shelf):\n",
    "    \"\"\"\n",
    "    Функция принимает номер полки. \n",
    "    Смотрит, есть ли такая в directories. \n",
    "    Если есть - не добавляет ничего, пишет что такая есть и выводит текущий список полок.\n",
    "    Если нет - добавляет новую, выводит новый список полок. \n",
    "    \"\"\"\n",
    "    if number_shelf in directories.keys():\n",
    "        print(f\"Такая полка уже существует. Текущий перечень полок: {', '.join(list(directories.keys()))}\")\n",
    "    else:\n",
    "        directories[number_shelf] = []\n",
    "        print(f\"Полка добавлена. Текущий перечень полок: {', '.join(list(directories.keys()))}\")"
   ]
  },
  {
   "cell_type": "code",
   "execution_count": 68,
   "metadata": {},
   "outputs": [],
   "source": [
    "def del_shelf(number_shelf):\n",
    "    \"\"\"\n",
    "    да, тут должно быть описание =) \n",
    "    \"\"\"\n",
    "    \n",
    "    if number_shelf not in directories.keys():\n",
    "        print(f\"Такой полки не существует. Текущий перечень полок: {', '.join(list(directories.keys()))}\")\n",
    "    elif len(directories[number_shelf]) > 0:\n",
    "        print(f\"На полке есть документы, уберите их перед удалением полки. Текущий перечень полок: {', '.join(list(directories.keys()))}\")\n",
    "    else:\n",
    "        del(directories[number_shelf])\n",
    "        print(f\"Полка удалена. Текущий перечень полок: {', '.join(list(directories.keys()))}\")"
   ]
  },
  {
   "cell_type": "code",
   "execution_count": 102,
   "metadata": {},
   "outputs": [],
   "source": [
    "def add_person():\n",
    "    \"\"\"\n",
    "    да, тут должно быть описание =) \n",
    "    \"\"\"\n",
    "    number_shelf = input(\"Введите номер полки: \")\n",
    "    if number_shelf not in directories.keys():\n",
    "        print(f\"Такой полки не существует. Добавьте полку командой as.\\nТекущий список документов: \")\n",
    "        full_information()\n",
    "        return\n",
    "    number_doc = input(\"Введите номер документа: \")\n",
    "    if check_number_name(number_doc) != None:\n",
    "        print(f\"Документ с таким номером уже существует, и его владелец: {check_number_name(number_doc)} \\nТекущий список документов:\")\n",
    "        full_information()\n",
    "        return \n",
    "    type_doc = input(\"Введите тип документа: \")\n",
    "    name_doc = input(\"Введите имя владельца документа: \")\n",
    "    documents.append({'type': type_doc, 'number': number_doc, 'name': name_doc})\n",
    "    directories[number_shelf].append(number_doc)\n",
    "    print(f\"Документ добавлен.\\nТекущий список документов:\")\n",
    "    full_information()\n",
    "    return "
   ]
  },
  {
   "cell_type": "code",
   "execution_count": 113,
   "metadata": {},
   "outputs": [],
   "source": [
    "def del_doc(number_doc):\n",
    "    \"\"\"\n",
    "    да, тут должно быть описание =) \n",
    "    \"\"\"\n",
    "    if check_number_name(number_doc) == None:\n",
    "        print(f\"Документ не найден в базе.\\nТекущий список документов:\")\n",
    "        full_information()\n",
    "        return\n",
    "    for document in documents:\n",
    "        if number_doc == document['number']:\n",
    "            documents.remove(document)\n",
    "            break\n",
    "    for number_shelf, list_documents in directories.items():\n",
    "        if number_doc in list_documents:\n",
    "            directories[number_shelf].remove(number_doc)\n",
    "            break\n",
    "    print(f\"Документ удален.\\nТекущий список документов:\")\n",
    "    full_information()\n",
    "    return    "
   ]
  },
  {
   "cell_type": "code",
   "execution_count": 119,
   "metadata": {},
   "outputs": [],
   "source": [
    "def move_doc_shelf(number_doc):\n",
    "    if check_number_name(number_doc) == None:\n",
    "        print(f\"Документ не найден в базе.\\nТекущий список документов:\")\n",
    "        full_information()\n",
    "        return\n",
    "    number_shelf_new = input(\"Введите номер новой полки: \")\n",
    "    if number_shelf_new not in directories.keys():\n",
    "        print(f\"Такой полки не существует. Добавьте полку командой as.\\nТекущий список документов: \")\n",
    "        full_information()\n",
    "        return\n",
    "    for number_shelf_old, list_documents in directories.items():\n",
    "        if number_doc in list_documents:\n",
    "            directories[number_shelf_old].remove(number_doc)\n",
    "    directories[number_shelf_new].append(number_doc)\n",
    "    print(f\"Документ перемещен.\\nТекущий список документов: \")\n",
    "    full_information()\n",
    "    return"
   ]
  },
  {
   "cell_type": "code",
   "execution_count": 134,
   "metadata": {},
   "outputs": [],
   "source": [
    "def main():\n",
    "    command = 'abs'\n",
    "    while command != 'q':\n",
    "        command = input(\"Введите команду: \")\n",
    "        if check_command(command) == False:\n",
    "            print(f\"Вы ввели неверную команду.\")\n",
    "        else: \n",
    "            if command == 'p':\n",
    "                user = check_number_name(input(\"Введите номер документа: \"))\n",
    "                if user != None:\n",
    "                    print(f\"Владелец документа: {user}\")\n",
    "                else:\n",
    "                    print(f\"Документ не найден в базе\")\n",
    "                \n",
    "            elif command == 's':\n",
    "                number_shelf = check_number_shelf(input(\"Введите номер документа: \"))\n",
    "                if number_shelf != None:\n",
    "                    print(f\"Документ хранится на полке: {number_shelf}\")\n",
    "                else:\n",
    "                    print(f\"Документ не найден в базе\")\n",
    "            \n",
    "            elif command == 'i':\n",
    "                full_information()\n",
    "            \n",
    "            elif command == 'ads':\n",
    "                add_shelf(input(\"Введите номер новой полки: \"))\n",
    "            \n",
    "            elif command == 'ds':\n",
    "                del_shelf(input(\"Введите номер удаляемой полки: \"))\n",
    "            \n",
    "            elif command == 'ad':\n",
    "                add_person()\n",
    "            \n",
    "            elif command == 'd':\n",
    "                del_doc(input(\"Введите номер документа: \"))\n",
    "            \n",
    "            elif command == 'm':\n",
    "                move_doc_shelf(input(\"Введите номер документа: \"))\n",
    "    return"
   ]
  },
  {
   "cell_type": "code",
   "execution_count": 135,
   "metadata": {},
   "outputs": [
    {
     "name": "stdout",
     "output_type": "stream",
     "text": [
      "Введите команду: rr\n",
      "Вы ввели неверную команду.\n",
      "Введите команду: p\n",
      "Введите номер документа: 4455\n",
      "Документ не найден в базе\n",
      "Введите команду: 4444\n",
      "Вы ввели неверную команду.\n",
      "Введите команду: p\n",
      "Введите номер документа: 4444\n",
      "Владелец документа: vozov\n",
      "Введите команду: i\n",
      "№: 2207 876234, тип: passport, владелец: Василий Гупкин, полка хранения: 1\n",
      "№: 11-2, тип: invoice, владелец: Геннадий Покемонов, полка хранения: 1\n",
      "№: 10006, тип: insurance, владелец: Аристарх Павлов, полка хранения: 2\n",
      "№: 4444, тип: pass, владелец: vozov, полка хранения: 3\n",
      "Введите команду: s\n",
      "Введите номер документа: 4444\n",
      "Документ хранится на полке: 3\n",
      "Введите команду: as\n",
      "Вы ввели неверную команду.\n",
      "Введите команду: ads\n",
      "Введите номер новой полки: 4\n",
      "Полка добавлена. Текущий перечень полок: 1, 2, 3, 4\n",
      "Введите команду: m\n",
      "Введите номер документа: 4444\n",
      "Введите номер новой полки: 4\n",
      "Документ перемещен.\n",
      "Текущий список документов: \n",
      "№: 2207 876234, тип: passport, владелец: Василий Гупкин, полка хранения: 1\n",
      "№: 11-2, тип: invoice, владелец: Геннадий Покемонов, полка хранения: 1\n",
      "№: 10006, тип: insurance, владелец: Аристарх Павлов, полка хранения: 2\n",
      "№: 4444, тип: pass, владелец: vozov, полка хранения: 4\n",
      "Введите команду: ad\n",
      "Введите номер полки: 4\n",
      "Введите номер документа: 4646\n",
      "Введите тип документа: pass111\n",
      "Введите имя владельца документа: vozovsergey\n",
      "Документ добавлен.\n",
      "Текущий список документов:\n",
      "№: 2207 876234, тип: passport, владелец: Василий Гупкин, полка хранения: 1\n",
      "№: 11-2, тип: invoice, владелец: Геннадий Покемонов, полка хранения: 1\n",
      "№: 10006, тип: insurance, владелец: Аристарх Павлов, полка хранения: 2\n",
      "№: 4444, тип: pass, владелец: vozov, полка хранения: 4\n",
      "№: 4646, тип: pass111, владелец: vozovsergey, полка хранения: 4\n",
      "Введите команду: m\n",
      "Введите номер документа: 4646\n",
      "Введите номер новой полки: 3\n",
      "Документ перемещен.\n",
      "Текущий список документов: \n",
      "№: 2207 876234, тип: passport, владелец: Василий Гупкин, полка хранения: 1\n",
      "№: 11-2, тип: invoice, владелец: Геннадий Покемонов, полка хранения: 1\n",
      "№: 10006, тип: insurance, владелец: Аристарх Павлов, полка хранения: 2\n",
      "№: 4444, тип: pass, владелец: vozov, полка хранения: 4\n",
      "№: 4646, тип: pass111, владелец: vozovsergey, полка хранения: 3\n",
      "Введите команду: q\n"
     ]
    }
   ],
   "source": [
    "main()"
   ]
  }
 ],
 "metadata": {
  "kernelspec": {
   "display_name": "Python 3",
   "language": "python",
   "name": "python3"
  },
  "language_info": {
   "codemirror_mode": {
    "name": "ipython",
    "version": 3
   },
   "file_extension": ".py",
   "mimetype": "text/x-python",
   "name": "python",
   "nbconvert_exporter": "python",
   "pygments_lexer": "ipython3",
   "version": "3.8.3"
  }
 },
 "nbformat": 4,
 "nbformat_minor": 4
}
