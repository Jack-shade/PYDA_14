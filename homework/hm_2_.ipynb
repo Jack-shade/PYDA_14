{
 "cells": [
  {
   "cell_type": "markdown",
   "metadata": {},
   "source": [
    "## Задание 1"
   ]
  },
  {
   "cell_type": "raw",
   "metadata": {},
   "source": [
    "Задание 1\n",
    "Дана переменная, в которой хранится словарь, содержащий гео-метки для каждого пользователя (пример структуры данных приведен ниже). Вам необходимо написать программу, которая выведет на экран множество уникальных гео-меток всех пользователей.\n",
    "\n",
    "Пример работы программы:\n",
    "\n",
    "ids = {'user1': [213, 213, 213, 15, 213], \n",
    "       'user2': [54, 54, 119, 119, 119], \n",
    "       'user3': [213, 98, 98, 35]}\n",
    "Результат: {98, 35, 15, 213, 54, 119}"
   ]
  },
  {
   "cell_type": "code",
   "execution_count": 3,
   "metadata": {},
   "outputs": [],
   "source": [
    "ids = {'user1': [213, 213, 213, 15, 213], \n",
    "       'user2': [54, 54, 119, 119, 119], \n",
    "       'user3': [213, 98, 98, 35]}"
   ]
  },
  {
   "cell_type": "code",
   "execution_count": 21,
   "metadata": {},
   "outputs": [
    {
     "name": "stdout",
     "output_type": "stream",
     "text": [
      "{98, 35, 15, 213, 54, 119}\n"
     ]
    }
   ],
   "source": [
    "new_list = []\n",
    "for geo_user in ids.values():\n",
    "    [new_list.append(x) for x in geo_user]\n",
    "\n",
    "print(set(new_list))"
   ]
  },
  {
   "cell_type": "markdown",
   "metadata": {},
   "source": [
    "#### Мне не нравится почему-то морально это решение... "
   ]
  },
  {
   "cell_type": "markdown",
   "metadata": {},
   "source": [
    "## Задание 2"
   ]
  },
  {
   "cell_type": "raw",
   "metadata": {},
   "source": [
    "Дана переменная, в которой хранится список поисковых запросов пользователя (пример структуры данных приведен ниже). Вам необходимо написать программу, которая выведет на экран распределение количества слов в запросах в требуемом виде.\n",
    "\n",
    "Пример работы программы:\n",
    "\n",
    "queries = [\n",
    "    'смотреть сериалы онлайн',\n",
    "    'новости спорта',\n",
    "    'афиша кино',\n",
    "    'курс доллара',\n",
    "    'сериалы этим летом',\n",
    "    'курс по питону',\n",
    "    'сериалы про спорт',\n",
    "]\n",
    "Результат:\n",
    "\n",
    "Поисковых запросов, содержащих 2 слов(а): 42.86%\n",
    "Поисковых запросов, содержащих 3 слов(а): 57.14%"
   ]
  },
  {
   "cell_type": "code",
   "execution_count": 22,
   "metadata": {},
   "outputs": [],
   "source": [
    "queries = [\n",
    "    'смотреть сериалы онлайн',\n",
    "    'новости спорта',\n",
    "    'афиша кино',\n",
    "    'курс доллара',\n",
    "    'сериалы этим летом',\n",
    "    'курс по питону',\n",
    "    'сериалы про спорт',\n",
    "]"
   ]
  },
  {
   "cell_type": "code",
   "execution_count": 38,
   "metadata": {},
   "outputs": [
    {
     "name": "stdout",
     "output_type": "stream",
     "text": [
      "Поисковых запросов, содержащих 2 слов(а): 42.86%\n",
      "Поисковых запросов, содержащих 3 слов(а): 57.14%\n"
     ]
    }
   ],
   "source": [
    "vol_len = []\n",
    "for elem in queries:\n",
    "    vol_len.append(len(elem.split(' ')))\n",
    "\n",
    "word_set = set(vol_len)\n",
    "vol_dict = {x: vol_len.count(x) for x in word_set}\n",
    "\n",
    "for k,v in vol_dict.items():\n",
    "    print(f\"Поисковых запросов, содержащих {k} слов(а): {round((v/sum(vol_dict.values()))*100, 2)}%\")\n",
    "\n",
    "# создать список по len потом множество потом словарь, где ключи будут из множества, значения это кол-во из списка"
   ]
  },
  {
   "cell_type": "markdown",
   "metadata": {},
   "source": [
    "## Задание 3"
   ]
  },
  {
   "cell_type": "raw",
   "metadata": {},
   "source": [
    "Дана переменная, в которой хранится информация о затратах и доходе рекламных кампаний по различным источникам. Необходимо дополнить исходную структуру показателем ROI, который рассчитаем по формуле: (revenue / cost - 1) * 100\n",
    "\n",
    "Пример работы программы:\n",
    "\n",
    "results = {\n",
    "    'vk': {'revenue': 103, 'cost': 98},\n",
    "    'yandex': {'revenue': 179, 'cost': 153},\n",
    "    'facebook': {'revenue': 103, 'cost': 110},\n",
    "    'adwords': {'revenue': 35, 'cost': 34},\n",
    "    'twitter': {'revenue': 11, 'cost': 24},\n",
    "}\n",
    "Результат:\n",
    "\n",
    "{'adwords': {'ROI': 2.94, 'cost': 34, 'revenue': 35},\n",
    " 'facebook': {'ROI': -6.36, 'cost': 110, 'revenue': 103},\n",
    " 'twitter': {'ROI': -54.17, 'cost': 24, 'revenue': 11},\n",
    " 'vk': {'ROI': 5.1, 'cost': 98, 'revenue': 103},\n",
    " 'yandex': {'ROI': 16.99, 'cost': 153, 'revenue': 179}}"
   ]
  },
  {
   "cell_type": "code",
   "execution_count": 41,
   "metadata": {},
   "outputs": [],
   "source": [
    "results = {\n",
    "    'vk': {'revenue': 103, 'cost': 98},\n",
    "    'yandex': {'revenue': 179, 'cost': 153},\n",
    "    'facebook': {'revenue': 103, 'cost': 110},\n",
    "    'adwords': {'revenue': 35, 'cost': 34},\n",
    "    'twitter': {'revenue': 11, 'cost': 24},\n",
    "}"
   ]
  },
  {
   "cell_type": "code",
   "execution_count": 48,
   "metadata": {},
   "outputs": [],
   "source": [
    "for channel, val_channel in results.items():\n",
    "    results[channel]['ROI'] = round((results[channel]['revenue']/results[channel]['cost'] - 1) * 100,2)"
   ]
  },
  {
   "cell_type": "code",
   "execution_count": 49,
   "metadata": {},
   "outputs": [
    {
     "data": {
      "text/plain": [
       "{'vk': {'revenue': 103, 'cost': 98, 'ROI': 5.1},\n",
       " 'yandex': {'revenue': 179, 'cost': 153, 'ROI': 16.99},\n",
       " 'facebook': {'revenue': 103, 'cost': 110, 'ROI': -6.36},\n",
       " 'adwords': {'revenue': 35, 'cost': 34, 'ROI': 2.94},\n",
       " 'twitter': {'revenue': 11, 'cost': 24, 'ROI': -54.17}}"
      ]
     },
     "execution_count": 49,
     "metadata": {},
     "output_type": "execute_result"
    }
   ],
   "source": [
    "results"
   ]
  },
  {
   "cell_type": "markdown",
   "metadata": {},
   "source": [
    "## Задание 4"
   ]
  },
  {
   "cell_type": "raw",
   "metadata": {},
   "source": [
    "Дана переменная, в которой хранится статистика рекламных каналов по объемам продаж (пример структуры данных приведен ниже). Напишите программу, которая возвращает название канала с максимальным объемом продаж.\n",
    "\n",
    "Пример работы программы:\n",
    "\n",
    "stats = {'facebook': 55, 'yandex': 115, 'vk': 120, 'google': 99, 'email': 42, 'ok': 98}\n",
    "\n",
    "Результат: Максимальный объем продаж на рекламном канале: vk"
   ]
  },
  {
   "cell_type": "code",
   "execution_count": 57,
   "metadata": {},
   "outputs": [],
   "source": [
    "stats = {\n",
    "    'facebook': 55, \n",
    "    'yandex': 115, \n",
    "    'vk': 120, \n",
    "    'google': 120, \n",
    "    'email': 42, \n",
    "    'ok': 98\n",
    "}"
   ]
  },
  {
   "cell_type": "code",
   "execution_count": 58,
   "metadata": {},
   "outputs": [
    {
     "name": "stdout",
     "output_type": "stream",
     "text": [
      "Максимальный объем продаж на рекламном канале: vk\n",
      "Максимальный объем продаж на рекламном канале: google\n"
     ]
    }
   ],
   "source": [
    "max_val = max([x for x in stats.values()])\n",
    "for ch in stats:\n",
    "    if stats[ch] == max_val:\n",
    "        print(f\"Максимальный объем продаж на рекламном канале: {ch}\")"
   ]
  },
  {
   "cell_type": "markdown",
   "metadata": {},
   "source": [
    "## Задание 5 (необязательно)"
   ]
  },
  {
   "cell_type": "raw",
   "metadata": {},
   "source": [
    "Дан список произвольной длины. Необходимо написать код, который на основе исходного списка составит словарь такого уровня вложенности, какова длина исхондого списка.\n",
    "\n",
    "Примеры работы программы:\n",
    "\n",
    "my_list = ['2018-01-01', 'yandex', 'cpc', 100]\n",
    "Результат: {'2018-01-01': {'yandex': {'cpc': 100}}}\n",
    "\n",
    "my_list = ['a', 'b', 'c', 'd', 'e', 'f']\n",
    "Результат: {'a': {'b': {'c': {'d': {'e': 'f'}}}}}"
   ]
  },
  {
   "cell_type": "code",
   "execution_count": 30,
   "metadata": {},
   "outputs": [
    {
     "data": {
      "text/plain": [
       "{'a': {'b': {'c': {'d': {'e': 'f'}}}}}"
      ]
     },
     "execution_count": 30,
     "metadata": {},
     "output_type": "execute_result"
    }
   ],
   "source": [
    "my_list = ['a', 'b', 'c', 'd', 'e', 'f']\n",
    "\n",
    "dict_list_first = {}\n",
    "dict_list_first[my_list[-2]] = my_list[-1]\n",
    "dict_list_end = {}\n",
    "i = -2\n",
    "while -i<len(my_list):\n",
    "    dict_list_end[my_list[i-1]] = dict_list_first\n",
    "    dict_list_first = dict_list_end\n",
    "    dict_list_end = {}\n",
    "    i -= 1\n",
    "\n",
    "dict_list_first"
   ]
  },
  {
   "cell_type": "code",
   "execution_count": 31,
   "metadata": {},
   "outputs": [
    {
     "data": {
      "text/plain": [
       "{'2018-01-01': {'yandex': {'cpc': 100}}}"
      ]
     },
     "execution_count": 31,
     "metadata": {},
     "output_type": "execute_result"
    }
   ],
   "source": [
    "my_list = ['2018-01-01', 'yandex', 'cpc', 100]\n",
    "\n",
    "dict_list_first = {}\n",
    "dict_list_first[my_list[-2]] = my_list[-1]\n",
    "dict_list_end = {}\n",
    "i = -2\n",
    "while -i<len(my_list):\n",
    "    dict_list_end[my_list[i-1]] = dict_list_first\n",
    "    dict_list_first = dict_list_end\n",
    "    dict_list_end = {}\n",
    "    i -= 1\n",
    "\n",
    "dict_list_first"
   ]
  },
  {
   "cell_type": "markdown",
   "metadata": {},
   "source": [
    "## Задание 6 (необязательно)"
   ]
  },
  {
   "cell_type": "raw",
   "metadata": {},
   "source": [
    "Дана книга рецептов с информацией о том, сколько ингредиентов нужно для приготовления блюда в расчете на одну порцию (пример данных представлен ниже).\n",
    "Напишите программу, которая будет запрашивать у пользователя количество порций для приготовления этих блюд и отображать информацию о суммарном количестве требуемых ингредиентов в указанном виде.\n",
    "Внимание! Одинаковые ингридиенты с разными размерностями нужно считать раздельно!\n",
    "Пример работы программы:\n",
    "\n",
    "cook_book = {\n",
    "  'салат': [\n",
    "     {'ingridient_name': 'сыр', 'quantity': 50, 'measure': 'гр'},\n",
    "     {'ingridient_name': 'томаты', 'quantity': 2, 'measure': 'шт'},\n",
    "     {'ingridient_name': 'огурцы', 'quantity': 20, 'measure': 'гр'},\n",
    "     {'ingridient_name': 'маслины', 'quantity': 10, 'measure': 'гр'},\n",
    "     {'ingridient_name': 'оливковое масло', 'quantity': 20, 'measure': 'мл'},\n",
    "     {'ingridient_name': 'салат', 'quantity': 10, 'measure': 'гр'},\n",
    "     {'ingridient_name': 'перец', 'quantity': 20, 'measure': 'гр'}\n",
    "    ],\n",
    "  'пицца': [\n",
    "     {'ingridient_name': 'сыр', 'quantity': 20, 'measure': 'гр'},\n",
    "     {'ingridient_name': 'колбаса', 'quantity': 30, 'measure': 'гр'},\n",
    "     {'ingridient_name': 'бекон', 'quantity': 30, 'measure': 'гр'},\n",
    "     {'ingridient_name': 'оливки', 'quantity': 10, 'measure': 'гр'},\n",
    "     {'ingridient_name': 'томаты', 'quantity': 20, 'measure': 'гр'},\n",
    "     {'ingridient_name': 'тесто', 'quantity': 100, 'measure': 'гр'},   \n",
    "    ],\n",
    "  'лимонад': [\n",
    "     {'ingridient_name': 'лимон', 'quantity': 1, 'measure': 'шт'},\n",
    "     {'ingridient_name': 'вода', 'quantity': 200, 'measure': 'мл'},\n",
    "     {'ingridient_name': 'сахар', 'quantity': 10, 'measure': 'гр'},\n",
    "     {'ingridient_name': 'лайм', 'quantity': 20, 'measure': 'гр'},    \n",
    "    ]\n",
    "}\n",
    "\n",
    "Введите количество порций:  \n",
    "3\n",
    "Результат:\n",
    "\n",
    "Сыр: 210 гр  \n",
    "Томаты: 6 шт  \n",
    "Огурцы: 60 гр  \n",
    "Маслины: 30 гр  \n",
    "Оливковое масло: 60 мл  \n",
    "Салат: 30 гр  \n",
    "Перец: 60 гр  \n",
    "Колбаса: 90 гр  \n",
    "Бекон: 90 гр  \n",
    "Оливки: 30 гр  \n",
    "Томаты: 60 гр  \n",
    "Тесто: 300 гр  \n",
    "Лимон: 3 шт  \n",
    "Вода: 600 мл  \n",
    "Сахар: 30 гр  \n",
    "Лайм: 60 гр"
   ]
  },
  {
   "cell_type": "code",
   "execution_count": 32,
   "metadata": {},
   "outputs": [],
   "source": [
    "cook_book = {\n",
    "  'салат': [\n",
    "     {'ingridient_name': 'сыр', 'quantity': 50, 'measure': 'гр'},\n",
    "     {'ingridient_name': 'томаты', 'quantity': 2, 'measure': 'шт'},\n",
    "     {'ingridient_name': 'огурцы', 'quantity': 20, 'measure': 'гр'},\n",
    "     {'ingridient_name': 'маслины', 'quantity': 10, 'measure': 'гр'},\n",
    "     {'ingridient_name': 'оливковое масло', 'quantity': 20, 'measure': 'мл'},\n",
    "     {'ingridient_name': 'салат', 'quantity': 10, 'measure': 'гр'},\n",
    "     {'ingridient_name': 'перец', 'quantity': 20, 'measure': 'гр'}\n",
    "    ],\n",
    "  'пицца': [\n",
    "     {'ingridient_name': 'сыр', 'quantity': 20, 'measure': 'гр'},\n",
    "     {'ingridient_name': 'колбаса', 'quantity': 30, 'measure': 'гр'},\n",
    "     {'ingridient_name': 'бекон', 'quantity': 30, 'measure': 'гр'},\n",
    "     {'ingridient_name': 'оливки', 'quantity': 10, 'measure': 'гр'},\n",
    "     {'ingridient_name': 'томаты', 'quantity': 20, 'measure': 'гр'},\n",
    "     {'ingridient_name': 'тесто', 'quantity': 100, 'measure': 'гр'},   \n",
    "    ],\n",
    "  'лимонад': [\n",
    "     {'ingridient_name': 'лимон', 'quantity': 1, 'measure': 'шт'},\n",
    "     {'ingridient_name': 'вода', 'quantity': 200, 'measure': 'мл'},\n",
    "     {'ingridient_name': 'сахар', 'quantity': 10, 'measure': 'гр'},\n",
    "     {'ingridient_name': 'лайм', 'quantity': 20, 'measure': 'гр'},    \n",
    "    ]\n",
    "}"
   ]
  },
  {
   "cell_type": "code",
   "execution_count": 53,
   "metadata": {},
   "outputs": [
    {
     "data": {
      "text/plain": [
       "{'томаты': 66,\n",
       " 'маслины': 30,\n",
       " 'вода': 600,\n",
       " 'бекон': 90,\n",
       " 'оливки': 30,\n",
       " 'колбаса': 90,\n",
       " 'тесто': 300,\n",
       " 'сыр': 210,\n",
       " 'лайм': 60,\n",
       " 'сахар': 30,\n",
       " 'перец': 60,\n",
       " 'оливковое масло': 60,\n",
       " 'огурцы': 60,\n",
       " 'лимон': 3,\n",
       " 'салат': 30}"
      ]
     },
     "execution_count": 53,
     "metadata": {},
     "output_type": "execute_result"
    }
   ],
   "source": [
    "number_of_servings = 3\n",
    "ingredients = []\n",
    "i = 0\n",
    "for dish in cook_book.values():\n",
    "    for ingridient in dish:\n",
    "        ingredients.append(ingridient['ingridient_name'])\n",
    "ingredients = set(ingredients)\n",
    "shopping_list = {name: 0 for name in ingredients}\n",
    "\n",
    "for dish in cook_book.values():\n",
    "    for ingridient in dish:\n",
    "        i = shopping_list[ingridient['ingridient_name']]\n",
    "        shopping_list[ingridient['ingridient_name']] = ingridient['quantity'] * number_of_servings + i\n",
    "        \n",
    "shopping_list\n"
   ]
  }
 ],
 "metadata": {
  "kernelspec": {
   "display_name": "Python 3",
   "language": "python",
   "name": "python3"
  },
  "language_info": {
   "codemirror_mode": {
    "name": "ipython",
    "version": 3
   },
   "file_extension": ".py",
   "mimetype": "text/x-python",
   "name": "python",
   "nbconvert_exporter": "python",
   "pygments_lexer": "ipython3",
   "version": "3.8.3"
  }
 },
 "nbformat": 4,
 "nbformat_minor": 4
}
