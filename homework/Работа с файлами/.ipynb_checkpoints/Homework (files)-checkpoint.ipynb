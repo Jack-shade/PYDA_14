{
 "cells": [
  {
   "cell_type": "markdown",
   "metadata": {},
   "source": [
    "# Домашнее задание\n",
    "1. Переведите содержимое файла purchase_log.txt в словарь purchases вида:\n",
    "```python\n",
    "{'1840e0b9d4': 'Продукты', ...}\n",
    "```\n",
    "\n",
    "2. Для каждого user_id в файле visit_log.csv определите третий столбец с категорией покупки (если покупка была, сам файл visit_log.csv изменять не надо). Запишите в файл funnel.csv визиты из файла visit_log.csv, в которых были покупки с указанием категории.\n",
    "\n",
    "Учтите условия на данные:\n",
    "- содержимое purchase_log.txt помещается в оперативную память компьютера\n",
    "- содержимое visit_log.csv - нет; используйте только построчную обработку этого файла"
   ]
  },
  {
   "cell_type": "code",
   "execution_count": 1,
   "metadata": {},
   "outputs": [],
   "source": [
    "import json"
   ]
  },
  {
   "cell_type": "code",
   "execution_count": 104,
   "metadata": {},
   "outputs": [],
   "source": [
    "def add_purchases_1 (): #Это по заданию (весь файл в оперативку)\n",
    "    open_file = open('purchase_log.txt', encoding='utf-8')\n",
    "    all_file = open_file.readlines()\n",
    "    open_file.close()\n",
    "    purchases = {}\n",
    "    for record in all_file:\n",
    "        one_line = json.loads(record)\n",
    "        purchases[one_line['user_id']] = one_line['category']\n",
    "    return(purchases)"
   ]
  },
  {
   "cell_type": "code",
   "execution_count": 105,
   "metadata": {},
   "outputs": [],
   "source": [
    "def add_funnel ():    \n",
    "    open_file = open('visit_log.csv', 'r')\n",
    "    open_file.readline()\n",
    "    new_file = open('funnel.csv', 'w')\n",
    "    purchases = add_purchases_1 ()\n",
    "    for line in open_file:\n",
    "        line = line.strip().split(',')\n",
    "        if line[0] in purchases.keys():\n",
    "            line.append(purchases[line[0]])\n",
    "            new_file.write(f'{\",\".join(line)}\\n')              \n",
    "    new_file.close()\n",
    "    open_file.close()"
   ]
  },
  {
   "cell_type": "code",
   "execution_count": 106,
   "metadata": {},
   "outputs": [],
   "source": [
    "add_funnel ()"
   ]
  },
  {
   "cell_type": "code",
   "execution_count": 107,
   "metadata": {},
   "outputs": [],
   "source": [
    "def print_first_10_string(file):\n",
    "    open_file = open(file, 'r')\n",
    "    i = 0\n",
    "    while i < 10:\n",
    "        print(open_file.readline())\n",
    "        i += 1"
   ]
  },
  {
   "cell_type": "code",
   "execution_count": 109,
   "metadata": {},
   "outputs": [
    {
     "name": "stdout",
     "output_type": "stream",
     "text": [
      "Введите файл для открытия: \n",
      "funnel.csv\n",
      "1840e0b9d4,other,Продукты\n",
      "\n",
      "4e4f90fcfb,context,Электроника\n",
      "\n",
      "afea8d72fc,other,Электроника\n",
      "\n",
      "2824221f38,email,Продукты\n",
      "\n",
      "373a6055fe,other,Бытовая техника\n",
      "\n",
      "9b2ab046f3,other,Электроника\n",
      "\n",
      "9f39d307c3,context,Электроника\n",
      "\n",
      "44edeffc91,context,Продукты\n",
      "\n",
      "704474fa2d,other,Продукты\n",
      "\n",
      "1de31be403,other,Бытовая техника\n",
      "\n"
     ]
    }
   ],
   "source": [
    "# funnel.csv\n",
    "print_first_10_string(input(\"Введите файл для открытия: \\n\"))"
   ]
  }
 ],
 "metadata": {
  "kernelspec": {
   "display_name": "Python 3",
   "language": "python",
   "name": "python3"
  },
  "language_info": {
   "codemirror_mode": {
    "name": "ipython",
    "version": 3
   },
   "file_extension": ".py",
   "mimetype": "text/x-python",
   "name": "python",
   "nbconvert_exporter": "python",
   "pygments_lexer": "ipython3",
   "version": "3.8.3"
  }
 },
 "nbformat": 4,
 "nbformat_minor": 4
}
